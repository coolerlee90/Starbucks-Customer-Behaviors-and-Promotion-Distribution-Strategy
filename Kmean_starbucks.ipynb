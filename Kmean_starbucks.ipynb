{
 "cells": [
  {
   "cell_type": "code",
   "execution_count": 1,
   "id": "66ca123a",
   "metadata": {},
   "outputs": [],
   "source": [
    "import pandas as pd\n",
    "from sklearn.cluster import KMeans\n",
    "from sklearn.preprocessing import StandardScaler\n",
    "import matplotlib.pyplot as plt"
   ]
  },
  {
   "cell_type": "code",
   "execution_count": 4,
   "id": "64899ee7",
   "metadata": {},
   "outputs": [],
   "source": [
    "#read the dataset\n",
    "customer_data = pd.read_csv(r'D:/BISI\\CST2106\\final project\\starbucks\\dataclean1117\\kmeandata.csv')  # 替换为你的实际数据路径"
   ]
  },
  {
   "cell_type": "code",
   "execution_count": 5,
   "id": "9dd27ec0",
   "metadata": {},
   "outputs": [
    {
     "data": {
      "text/html": [
       "<div>\n",
       "<style scoped>\n",
       "    .dataframe tbody tr th:only-of-type {\n",
       "        vertical-align: middle;\n",
       "    }\n",
       "\n",
       "    .dataframe tbody tr th {\n",
       "        vertical-align: top;\n",
       "    }\n",
       "\n",
       "    .dataframe thead th {\n",
       "        text-align: right;\n",
       "    }\n",
       "</style>\n",
       "<table border=\"1\" class=\"dataframe\">\n",
       "  <thead>\n",
       "    <tr style=\"text-align: right;\">\n",
       "      <th></th>\n",
       "      <th>gender</th>\n",
       "      <th>age</th>\n",
       "      <th>memberid</th>\n",
       "      <th>became_member_on</th>\n",
       "      <th>income</th>\n",
       "      <th>received counts</th>\n",
       "      <th>viewed counts</th>\n",
       "      <th>completed counts</th>\n",
       "      <th>transactions_counts</th>\n",
       "      <th>MaxTime</th>\n",
       "      <th>totalamount</th>\n",
       "      <th>memberdate</th>\n",
       "      <th>memberdays</th>\n",
       "    </tr>\n",
       "  </thead>\n",
       "  <tbody>\n",
       "    <tr>\n",
       "      <th>0</th>\n",
       "      <td>M</td>\n",
       "      <td>58</td>\n",
       "      <td>2eeac8d8feae4a8cad5a6af0499a211d</td>\n",
       "      <td>20171111</td>\n",
       "      <td>51000</td>\n",
       "      <td>3.0</td>\n",
       "      <td>2.0</td>\n",
       "      <td>1.0</td>\n",
       "      <td>4.0</td>\n",
       "      <td>570.0</td>\n",
       "      <td>15.62</td>\n",
       "      <td>2017-11-11</td>\n",
       "      <td>416</td>\n",
       "    </tr>\n",
       "    <tr>\n",
       "      <th>1</th>\n",
       "      <td>M</td>\n",
       "      <td>58</td>\n",
       "      <td>4de38d89a91c4286a583085d909817f9</td>\n",
       "      <td>20180129</td>\n",
       "      <td>70000</td>\n",
       "      <td>6.0</td>\n",
       "      <td>5.0</td>\n",
       "      <td>2.0</td>\n",
       "      <td>6.0</td>\n",
       "      <td>594.0</td>\n",
       "      <td>30.41</td>\n",
       "      <td>2018-01-29</td>\n",
       "      <td>337</td>\n",
       "    </tr>\n",
       "    <tr>\n",
       "      <th>2</th>\n",
       "      <td>M</td>\n",
       "      <td>58</td>\n",
       "      <td>2b91e3c00a424185ab261b2a204c9718</td>\n",
       "      <td>20170916</td>\n",
       "      <td>53000</td>\n",
       "      <td>5.0</td>\n",
       "      <td>5.0</td>\n",
       "      <td>3.0</td>\n",
       "      <td>10.0</td>\n",
       "      <td>696.0</td>\n",
       "      <td>122.65</td>\n",
       "      <td>2017-09-16</td>\n",
       "      <td>472</td>\n",
       "    </tr>\n",
       "    <tr>\n",
       "      <th>3</th>\n",
       "      <td>M</td>\n",
       "      <td>58</td>\n",
       "      <td>932715eb8a33450c83c1557c99968c7b</td>\n",
       "      <td>20180717</td>\n",
       "      <td>39000</td>\n",
       "      <td>5.0</td>\n",
       "      <td>2.0</td>\n",
       "      <td>NaN</td>\n",
       "      <td>5.0</td>\n",
       "      <td>576.0</td>\n",
       "      <td>5.04</td>\n",
       "      <td>2018-07-17</td>\n",
       "      <td>168</td>\n",
       "    </tr>\n",
       "    <tr>\n",
       "      <th>4</th>\n",
       "      <td>M</td>\n",
       "      <td>58</td>\n",
       "      <td>b4a4a6b9648a45baa15f438ffb5565e9</td>\n",
       "      <td>20171227</td>\n",
       "      <td>73000</td>\n",
       "      <td>5.0</td>\n",
       "      <td>3.0</td>\n",
       "      <td>NaN</td>\n",
       "      <td>6.0</td>\n",
       "      <td>702.0</td>\n",
       "      <td>23.45</td>\n",
       "      <td>2017-12-27</td>\n",
       "      <td>370</td>\n",
       "    </tr>\n",
       "  </tbody>\n",
       "</table>\n",
       "</div>"
      ],
      "text/plain": [
       "  gender  age                          memberid  became_member_on  income  \\\n",
       "0      M   58  2eeac8d8feae4a8cad5a6af0499a211d          20171111   51000   \n",
       "1      M   58  4de38d89a91c4286a583085d909817f9          20180129   70000   \n",
       "2      M   58  2b91e3c00a424185ab261b2a204c9718          20170916   53000   \n",
       "3      M   58  932715eb8a33450c83c1557c99968c7b          20180717   39000   \n",
       "4      M   58  b4a4a6b9648a45baa15f438ffb5565e9          20171227   73000   \n",
       "\n",
       "   received counts  viewed counts  completed counts  transactions_counts  \\\n",
       "0              3.0            2.0               1.0                  4.0   \n",
       "1              6.0            5.0               2.0                  6.0   \n",
       "2              5.0            5.0               3.0                 10.0   \n",
       "3              5.0            2.0               NaN                  5.0   \n",
       "4              5.0            3.0               NaN                  6.0   \n",
       "\n",
       "   MaxTime  totalamount  memberdate  memberdays  \n",
       "0    570.0        15.62  2017-11-11         416  \n",
       "1    594.0        30.41  2018-01-29         337  \n",
       "2    696.0       122.65  2017-09-16         472  \n",
       "3    576.0         5.04  2018-07-17         168  \n",
       "4    702.0        23.45  2017-12-27         370  "
      ]
     },
     "execution_count": 5,
     "metadata": {},
     "output_type": "execute_result"
    }
   ],
   "source": [
    "customer_data.head()"
   ]
  },
  {
   "cell_type": "code",
   "execution_count": 6,
   "id": "dda51e39",
   "metadata": {},
   "outputs": [
    {
     "data": {
      "text/plain": [
       "gender                  object\n",
       "age                      int64\n",
       "memberid                object\n",
       "became_member_on         int64\n",
       "income                   int64\n",
       "received counts        float64\n",
       "viewed counts          float64\n",
       "completed counts       float64\n",
       "transactions_counts    float64\n",
       "MaxTime                float64\n",
       "totalamount            float64\n",
       "memberdate              object\n",
       "memberdays               int64\n",
       "dtype: object"
      ]
     },
     "execution_count": 6,
     "metadata": {},
     "output_type": "execute_result"
    }
   ],
   "source": [
    "customer_data.dtypes"
   ]
  },
  {
   "cell_type": "code",
   "execution_count": 10,
   "id": "dadb7357",
   "metadata": {},
   "outputs": [],
   "source": [
    "customer_data['gender'].replace({'M': 1, 'F': 2, 'O': 3}, inplace=True)"
   ]
  },
  {
   "cell_type": "code",
   "execution_count": 9,
   "id": "36d58866",
   "metadata": {},
   "outputs": [
    {
     "data": {
      "text/plain": [
       "gender                    0\n",
       "age                       0\n",
       "memberid                  0\n",
       "became_member_on          0\n",
       "income                    0\n",
       "received counts           5\n",
       "viewed counts           150\n",
       "completed counts       2839\n",
       "transactions_counts     333\n",
       "MaxTime                 333\n",
       "totalamount             333\n",
       "memberdate                0\n",
       "memberdays                0\n",
       "dtype: int64"
      ]
     },
     "execution_count": 9,
     "metadata": {},
     "output_type": "execute_result"
    }
   ],
   "source": [
    "customer_data.isnull().sum()"
   ]
  },
  {
   "cell_type": "code",
   "execution_count": 11,
   "id": "b0855820",
   "metadata": {},
   "outputs": [],
   "source": [
    "customer_data.fillna(0, inplace=True)"
   ]
  },
  {
   "cell_type": "code",
   "execution_count": 12,
   "id": "d5be869b",
   "metadata": {},
   "outputs": [
    {
     "data": {
      "text/plain": [
       "gender                 0\n",
       "age                    0\n",
       "memberid               0\n",
       "became_member_on       0\n",
       "income                 0\n",
       "received counts        0\n",
       "viewed counts          0\n",
       "completed counts       0\n",
       "transactions_counts    0\n",
       "MaxTime                0\n",
       "totalamount            0\n",
       "memberdate             0\n",
       "memberdays             0\n",
       "dtype: int64"
      ]
     },
     "execution_count": 12,
     "metadata": {},
     "output_type": "execute_result"
    }
   ],
   "source": [
    "customer_data.isnull().sum()"
   ]
  },
  {
   "cell_type": "code",
   "execution_count": 29,
   "id": "661952ba",
   "metadata": {},
   "outputs": [],
   "source": [
    "# select the features for kmean\n",
    "features = ['age', 'income', 'gender', 'totalamount','MaxTime','transactions_counts','memberdays']"
   ]
  },
  {
   "cell_type": "code",
   "execution_count": 30,
   "id": "bf3e942b",
   "metadata": {},
   "outputs": [],
   "source": [
    "# create the training data \n",
    "X = customer_data[features]"
   ]
  },
  {
   "cell_type": "code",
   "execution_count": 31,
   "id": "cfe36052",
   "metadata": {},
   "outputs": [],
   "source": [
    "# scalering the data\n",
    "scaler = StandardScaler()\n",
    "X_scaled = scaler.fit_transform(X)"
   ]
  },
  {
   "cell_type": "code",
   "execution_count": 13,
   "id": "161507e0",
   "metadata": {},
   "outputs": [
    {
     "name": "stderr",
     "output_type": "stream",
     "text": [
      "C:\\Users\\zhuan\\anaconda3\\Lib\\site-packages\\sklearn\\cluster\\_kmeans.py:1412: FutureWarning: The default value of `n_init` will change from 10 to 'auto' in 1.4. Set the value of `n_init` explicitly to suppress the warning\n",
      "  super()._check_params_vs_input(X, default_n_init=10)\n",
      "C:\\Users\\zhuan\\anaconda3\\Lib\\site-packages\\sklearn\\cluster\\_kmeans.py:1412: FutureWarning: The default value of `n_init` will change from 10 to 'auto' in 1.4. Set the value of `n_init` explicitly to suppress the warning\n",
      "  super()._check_params_vs_input(X, default_n_init=10)\n",
      "C:\\Users\\zhuan\\anaconda3\\Lib\\site-packages\\sklearn\\cluster\\_kmeans.py:1412: FutureWarning: The default value of `n_init` will change from 10 to 'auto' in 1.4. Set the value of `n_init` explicitly to suppress the warning\n",
      "  super()._check_params_vs_input(X, default_n_init=10)\n",
      "C:\\Users\\zhuan\\anaconda3\\Lib\\site-packages\\sklearn\\cluster\\_kmeans.py:1412: FutureWarning: The default value of `n_init` will change from 10 to 'auto' in 1.4. Set the value of `n_init` explicitly to suppress the warning\n",
      "  super()._check_params_vs_input(X, default_n_init=10)\n",
      "C:\\Users\\zhuan\\anaconda3\\Lib\\site-packages\\sklearn\\cluster\\_kmeans.py:1412: FutureWarning: The default value of `n_init` will change from 10 to 'auto' in 1.4. Set the value of `n_init` explicitly to suppress the warning\n",
      "  super()._check_params_vs_input(X, default_n_init=10)\n",
      "C:\\Users\\zhuan\\anaconda3\\Lib\\site-packages\\sklearn\\cluster\\_kmeans.py:1412: FutureWarning: The default value of `n_init` will change from 10 to 'auto' in 1.4. Set the value of `n_init` explicitly to suppress the warning\n",
      "  super()._check_params_vs_input(X, default_n_init=10)\n",
      "C:\\Users\\zhuan\\anaconda3\\Lib\\site-packages\\sklearn\\cluster\\_kmeans.py:1412: FutureWarning: The default value of `n_init` will change from 10 to 'auto' in 1.4. Set the value of `n_init` explicitly to suppress the warning\n",
      "  super()._check_params_vs_input(X, default_n_init=10)\n",
      "C:\\Users\\zhuan\\anaconda3\\Lib\\site-packages\\sklearn\\cluster\\_kmeans.py:1412: FutureWarning: The default value of `n_init` will change from 10 to 'auto' in 1.4. Set the value of `n_init` explicitly to suppress the warning\n",
      "  super()._check_params_vs_input(X, default_n_init=10)\n",
      "C:\\Users\\zhuan\\anaconda3\\Lib\\site-packages\\sklearn\\cluster\\_kmeans.py:1412: FutureWarning: The default value of `n_init` will change from 10 to 'auto' in 1.4. Set the value of `n_init` explicitly to suppress the warning\n",
      "  super()._check_params_vs_input(X, default_n_init=10)\n",
      "C:\\Users\\zhuan\\anaconda3\\Lib\\site-packages\\sklearn\\cluster\\_kmeans.py:1412: FutureWarning: The default value of `n_init` will change from 10 to 'auto' in 1.4. Set the value of `n_init` explicitly to suppress the warning\n",
      "  super()._check_params_vs_input(X, default_n_init=10)\n"
     ]
    }
   ],
   "source": [
    "# choose the propraite k\n",
    "k = range(5,15)\n",
    "K = []\n",
    "WCSS = []\n",
    "for i in k:\n",
    "    kmodel = KMeans(n_clusters=i).fit(customer_data[['age', 'income', 'gender', 'totalamount','MaxTime','transactions_counts','memberdays']])\n",
    "    wcss_score = kmodel.inertia_\n",
    "    WCSS.append(wcss_score)\n",
    "    K.append(i)"
   ]
  },
  {
   "cell_type": "code",
   "execution_count": 14,
   "id": "f97145f8",
   "metadata": {},
   "outputs": [
    {
     "data": {
      "text/plain": [
       "([5, 6, 7, 8, 9, 10, 11, 12, 13, 14],\n",
       " [359534874513.81525,\n",
       "  253703667495.48633,\n",
       "  184058634394.98816,\n",
       "  140420306998.9763,\n",
       "  114835753108.8132,\n",
       "  93900362242.4907,\n",
       "  79008112622.35873,\n",
       "  66044471498.43135,\n",
       "  56469067083.07075,\n",
       "  49288030449.32971])"
      ]
     },
     "execution_count": 14,
     "metadata": {},
     "output_type": "execute_result"
    }
   ],
   "source": [
    "K, WCSS"
   ]
  },
  {
   "cell_type": "code",
   "execution_count": 15,
   "id": "374cf78f",
   "metadata": {},
   "outputs": [
    {
     "data": {
      "text/html": [
       "<div>\n",
       "<style scoped>\n",
       "    .dataframe tbody tr th:only-of-type {\n",
       "        vertical-align: middle;\n",
       "    }\n",
       "\n",
       "    .dataframe tbody tr th {\n",
       "        vertical-align: top;\n",
       "    }\n",
       "\n",
       "    .dataframe thead th {\n",
       "        text-align: right;\n",
       "    }\n",
       "</style>\n",
       "<table border=\"1\" class=\"dataframe\">\n",
       "  <thead>\n",
       "    <tr style=\"text-align: right;\">\n",
       "      <th></th>\n",
       "      <th>cluster</th>\n",
       "      <th>WSS_Score</th>\n",
       "    </tr>\n",
       "  </thead>\n",
       "  <tbody>\n",
       "    <tr>\n",
       "      <th>0</th>\n",
       "      <td>5</td>\n",
       "      <td>3.595349e+11</td>\n",
       "    </tr>\n",
       "    <tr>\n",
       "      <th>1</th>\n",
       "      <td>6</td>\n",
       "      <td>2.537037e+11</td>\n",
       "    </tr>\n",
       "    <tr>\n",
       "      <th>2</th>\n",
       "      <td>7</td>\n",
       "      <td>1.840586e+11</td>\n",
       "    </tr>\n",
       "    <tr>\n",
       "      <th>3</th>\n",
       "      <td>8</td>\n",
       "      <td>1.404203e+11</td>\n",
       "    </tr>\n",
       "    <tr>\n",
       "      <th>4</th>\n",
       "      <td>9</td>\n",
       "      <td>1.148358e+11</td>\n",
       "    </tr>\n",
       "    <tr>\n",
       "      <th>5</th>\n",
       "      <td>10</td>\n",
       "      <td>9.390036e+10</td>\n",
       "    </tr>\n",
       "    <tr>\n",
       "      <th>6</th>\n",
       "      <td>11</td>\n",
       "      <td>7.900811e+10</td>\n",
       "    </tr>\n",
       "    <tr>\n",
       "      <th>7</th>\n",
       "      <td>12</td>\n",
       "      <td>6.604447e+10</td>\n",
       "    </tr>\n",
       "    <tr>\n",
       "      <th>8</th>\n",
       "      <td>13</td>\n",
       "      <td>5.646907e+10</td>\n",
       "    </tr>\n",
       "    <tr>\n",
       "      <th>9</th>\n",
       "      <td>14</td>\n",
       "      <td>4.928803e+10</td>\n",
       "    </tr>\n",
       "  </tbody>\n",
       "</table>\n",
       "</div>"
      ],
      "text/plain": [
       "   cluster     WSS_Score\n",
       "0        5  3.595349e+11\n",
       "1        6  2.537037e+11\n",
       "2        7  1.840586e+11\n",
       "3        8  1.404203e+11\n",
       "4        9  1.148358e+11\n",
       "5       10  9.390036e+10\n",
       "6       11  7.900811e+10\n",
       "7       12  6.604447e+10\n",
       "8       13  5.646907e+10\n",
       "9       14  4.928803e+10"
      ]
     },
     "execution_count": 15,
     "metadata": {},
     "output_type": "execute_result"
    }
   ],
   "source": [
    "# Store the number of clusters and their respective WSS scores in a dataframe\n",
    "wss = pd.DataFrame({'cluster': K, 'WSS_Score':WCSS})\n",
    "wss"
   ]
  },
  {
   "cell_type": "code",
   "execution_count": 16,
   "id": "803f84f8",
   "metadata": {},
   "outputs": [
    {
     "data": {
      "image/png": "[encoded data removed]",
      "text/plain": [
       "<Figure size 640x480 with 1 Axes>"
      ]
     },
     "metadata": {},
     "output_type": "display_data"
    }
   ],
   "source": [
    "# Now, plot a Elbow plot\n",
    "wss.plot(x='cluster', y = 'WSS_Score')\n",
    "plt.xlabel('No. of clusters')\n",
    "plt.ylabel('WSS Score')\n",
    "plt.title('Elbow Plot')\n",
    "plt.show()"
   ]
  },
  {
   "cell_type": "code",
   "execution_count": 17,
   "id": "7314fdab",
   "metadata": {},
   "outputs": [],
   "source": [
    "# import silhouette_score \n",
    "from sklearn.metrics import silhouette_score"
   ]
  },
  {
   "cell_type": "code",
   "execution_count": 19,
   "id": "b2fe1096",
   "metadata": {},
   "outputs": [
    {
     "name": "stderr",
     "output_type": "stream",
     "text": [
      "C:\\Users\\zhuan\\anaconda3\\Lib\\site-packages\\sklearn\\cluster\\_kmeans.py:1412: FutureWarning: The default value of `n_init` will change from 10 to 'auto' in 1.4. Set the value of `n_init` explicitly to suppress the warning\n",
      "  super()._check_params_vs_input(X, default_n_init=10)\n",
      "C:\\Users\\zhuan\\anaconda3\\Lib\\site-packages\\sklearn\\cluster\\_kmeans.py:1412: FutureWarning: The default value of `n_init` will change from 10 to 'auto' in 1.4. Set the value of `n_init` explicitly to suppress the warning\n",
      "  super()._check_params_vs_input(X, default_n_init=10)\n",
      "C:\\Users\\zhuan\\anaconda3\\Lib\\site-packages\\sklearn\\cluster\\_kmeans.py:1412: FutureWarning: The default value of `n_init` will change from 10 to 'auto' in 1.4. Set the value of `n_init` explicitly to suppress the warning\n",
      "  super()._check_params_vs_input(X, default_n_init=10)\n",
      "C:\\Users\\zhuan\\anaconda3\\Lib\\site-packages\\sklearn\\cluster\\_kmeans.py:1412: FutureWarning: The default value of `n_init` will change from 10 to 'auto' in 1.4. Set the value of `n_init` explicitly to suppress the warning\n",
      "  super()._check_params_vs_input(X, default_n_init=10)\n",
      "C:\\Users\\zhuan\\anaconda3\\Lib\\site-packages\\sklearn\\cluster\\_kmeans.py:1412: FutureWarning: The default value of `n_init` will change from 10 to 'auto' in 1.4. Set the value of `n_init` explicitly to suppress the warning\n",
      "  super()._check_params_vs_input(X, default_n_init=10)\n",
      "C:\\Users\\zhuan\\anaconda3\\Lib\\site-packages\\sklearn\\cluster\\_kmeans.py:1412: FutureWarning: The default value of `n_init` will change from 10 to 'auto' in 1.4. Set the value of `n_init` explicitly to suppress the warning\n",
      "  super()._check_params_vs_input(X, default_n_init=10)\n",
      "C:\\Users\\zhuan\\anaconda3\\Lib\\site-packages\\sklearn\\cluster\\_kmeans.py:1412: FutureWarning: The default value of `n_init` will change from 10 to 'auto' in 1.4. Set the value of `n_init` explicitly to suppress the warning\n",
      "  super()._check_params_vs_input(X, default_n_init=10)\n",
      "C:\\Users\\zhuan\\anaconda3\\Lib\\site-packages\\sklearn\\cluster\\_kmeans.py:1412: FutureWarning: The default value of `n_init` will change from 10 to 'auto' in 1.4. Set the value of `n_init` explicitly to suppress the warning\n",
      "  super()._check_params_vs_input(X, default_n_init=10)\n",
      "C:\\Users\\zhuan\\anaconda3\\Lib\\site-packages\\sklearn\\cluster\\_kmeans.py:1412: FutureWarning: The default value of `n_init` will change from 10 to 'auto' in 1.4. Set the value of `n_init` explicitly to suppress the warning\n",
      "  super()._check_params_vs_input(X, default_n_init=10)\n",
      "C:\\Users\\zhuan\\anaconda3\\Lib\\site-packages\\sklearn\\cluster\\_kmeans.py:1412: FutureWarning: The default value of `n_init` will change from 10 to 'auto' in 1.4. Set the value of `n_init` explicitly to suppress the warning\n",
      "  super()._check_params_vs_input(X, default_n_init=10)\n"
     ]
    }
   ],
   "source": [
    "# same as above, calculate sihouetter score for each cluster using a for loop\n",
    "\n",
    "# try using a for loop\n",
    "k = range(5,15) # to loop from 5 to 15\n",
    "K = []         # to store the values of k\n",
    "ss = []        # to store respective silhouetter scores\n",
    "for i in k:\n",
    "    kmodel = KMeans(n_clusters=i,).fit(customer_data[['age', 'income', 'gender', 'totalamount','MaxTime','transactions_counts','memberdays']], )\n",
    "    ypred = kmodel.labels_\n",
    "    sil_score = silhouette_score(customer_data[['age', 'income', 'gender', 'totalamount','MaxTime','transactions_counts','memberdays']], ypred)\n",
    "    K.append(i)\n",
    "    ss.append(sil_score)"
   ]
  },
  {
   "cell_type": "code",
   "execution_count": 20,
   "id": "f8eda814",
   "metadata": {},
   "outputs": [
    {
     "data": {
      "text/plain": [
       "[0.5618493312664893,\n",
       " 0.5457542112258424,\n",
       " 0.5464455008100154,\n",
       " 0.5440030593973453,\n",
       " 0.5270368425511182,\n",
       " 0.5212637931628931,\n",
       " 0.5306144484979806,\n",
       " 0.5287044328301895,\n",
       " 0.5223947853180749,\n",
       " 0.5160347402898322]"
      ]
     },
     "execution_count": 20,
     "metadata": {},
     "output_type": "execute_result"
    }
   ],
   "source": [
    "ss"
   ]
  },
  {
   "cell_type": "code",
   "execution_count": 21,
   "id": "e4c21777",
   "metadata": {},
   "outputs": [],
   "source": [
    "# Store the number of clusters and their respective silhouette scores in a dataframe\n",
    "wss['Silhouette_Score']=ss"
   ]
  },
  {
   "cell_type": "code",
   "execution_count": 22,
   "id": "f1463b64",
   "metadata": {},
   "outputs": [
    {
     "data": {
      "text/html": [
       "<div>\n",
       "<style scoped>\n",
       "    .dataframe tbody tr th:only-of-type {\n",
       "        vertical-align: middle;\n",
       "    }\n",
       "\n",
       "    .dataframe tbody tr th {\n",
       "        vertical-align: top;\n",
       "    }\n",
       "\n",
       "    .dataframe thead th {\n",
       "        text-align: right;\n",
       "    }\n",
       "</style>\n",
       "<table border=\"1\" class=\"dataframe\">\n",
       "  <thead>\n",
       "    <tr style=\"text-align: right;\">\n",
       "      <th></th>\n",
       "      <th>cluster</th>\n",
       "      <th>WSS_Score</th>\n",
       "      <th>Silhouette_Score</th>\n",
       "    </tr>\n",
       "  </thead>\n",
       "  <tbody>\n",
       "    <tr>\n",
       "      <th>0</th>\n",
       "      <td>5</td>\n",
       "      <td>3.595349e+11</td>\n",
       "      <td>0.561849</td>\n",
       "    </tr>\n",
       "    <tr>\n",
       "      <th>1</th>\n",
       "      <td>6</td>\n",
       "      <td>2.537037e+11</td>\n",
       "      <td>0.545754</td>\n",
       "    </tr>\n",
       "    <tr>\n",
       "      <th>2</th>\n",
       "      <td>7</td>\n",
       "      <td>1.840586e+11</td>\n",
       "      <td>0.546446</td>\n",
       "    </tr>\n",
       "    <tr>\n",
       "      <th>3</th>\n",
       "      <td>8</td>\n",
       "      <td>1.404203e+11</td>\n",
       "      <td>0.544003</td>\n",
       "    </tr>\n",
       "    <tr>\n",
       "      <th>4</th>\n",
       "      <td>9</td>\n",
       "      <td>1.148358e+11</td>\n",
       "      <td>0.527037</td>\n",
       "    </tr>\n",
       "    <tr>\n",
       "      <th>5</th>\n",
       "      <td>10</td>\n",
       "      <td>9.390036e+10</td>\n",
       "      <td>0.521264</td>\n",
       "    </tr>\n",
       "    <tr>\n",
       "      <th>6</th>\n",
       "      <td>11</td>\n",
       "      <td>7.900811e+10</td>\n",
       "      <td>0.530614</td>\n",
       "    </tr>\n",
       "    <tr>\n",
       "      <th>7</th>\n",
       "      <td>12</td>\n",
       "      <td>6.604447e+10</td>\n",
       "      <td>0.528704</td>\n",
       "    </tr>\n",
       "    <tr>\n",
       "      <th>8</th>\n",
       "      <td>13</td>\n",
       "      <td>5.646907e+10</td>\n",
       "      <td>0.522395</td>\n",
       "    </tr>\n",
       "    <tr>\n",
       "      <th>9</th>\n",
       "      <td>14</td>\n",
       "      <td>4.928803e+10</td>\n",
       "      <td>0.516035</td>\n",
       "    </tr>\n",
       "  </tbody>\n",
       "</table>\n",
       "</div>"
      ],
      "text/plain": [
       "   cluster     WSS_Score  Silhouette_Score\n",
       "0        5  3.595349e+11          0.561849\n",
       "1        6  2.537037e+11          0.545754\n",
       "2        7  1.840586e+11          0.546446\n",
       "3        8  1.404203e+11          0.544003\n",
       "4        9  1.148358e+11          0.527037\n",
       "5       10  9.390036e+10          0.521264\n",
       "6       11  7.900811e+10          0.530614\n",
       "7       12  6.604447e+10          0.528704\n",
       "8       13  5.646907e+10          0.522395\n",
       "9       14  4.928803e+10          0.516035"
      ]
     },
     "execution_count": 22,
     "metadata": {},
     "output_type": "execute_result"
    }
   ],
   "source": [
    "wss"
   ]
  },
  {
   "cell_type": "code",
   "execution_count": 23,
   "id": "fe43c942",
   "metadata": {},
   "outputs": [
    {
     "data": {
      "image/png": "[encoded data removed]",
      "text/plain": [
       "<Figure size 640x480 with 1 Axes>"
      ]
     },
     "metadata": {},
     "output_type": "display_data"
    }
   ],
   "source": [
    "# Now, plot the silhouette plot\n",
    "wss.plot(x='cluster', y='Silhouette_Score')\n",
    "plt.xlabel('No. of clusters')\n",
    "plt.ylabel('Silhouette Score')\n",
    "plt.title('Silhouette Plot')\n",
    "plt.show()"
   ]
  },
  {
   "cell_type": "code",
   "execution_count": 24,
   "id": "5f80bdc2",
   "metadata": {},
   "outputs": [],
   "source": [
    "# set the k number\n",
    "num_clusters = 8"
   ]
  },
  {
   "cell_type": "code",
   "execution_count": 27,
   "id": "ea6b2ac8",
   "metadata": {},
   "outputs": [],
   "source": [
    "# create the kmean model\n",
    "kmeans = KMeans(n_clusters=num_clusters, random_state=42)"
   ]
  },
  {
   "cell_type": "code",
   "execution_count": 32,
   "id": "0c1c993e",
   "metadata": {},
   "outputs": [
    {
     "name": "stderr",
     "output_type": "stream",
     "text": [
      "C:\\Users\\zhuan\\anaconda3\\Lib\\site-packages\\sklearn\\cluster\\_kmeans.py:1412: FutureWarning: The default value of `n_init` will change from 10 to 'auto' in 1.4. Set the value of `n_init` explicitly to suppress the warning\n",
      "  super()._check_params_vs_input(X, default_n_init=10)\n"
     ]
    },
    {
     "data": {
      "text/html": [
       "<style>#sk-container-id-1 {color: black;}#sk-container-id-1 pre{padding: 0;}#sk-container-id-1 div.sk-toggleable {background-color: white;}#sk-container-id-1 label.sk-toggleable__label {cursor: pointer;display: block;width: 100%;margin-bottom: 0;padding: 0.3em;box-sizing: border-box;text-align: center;}#sk-container-id-1 label.sk-toggleable__label-arrow:before {content: \"▸\";float: left;margin-right: 0.25em;color: #696969;}#sk-container-id-1 label.sk-toggleable__label-arrow:hover:before {color: black;}#sk-container-id-1 div.sk-estimator:hover label.sk-toggleable__label-arrow:before {color: black;}#sk-container-id-1 div.sk-toggleable__content {max-height: 0;max-width: 0;overflow: hidden;text-align: left;background-color: #f0f8ff;}#sk-container-id-1 div.sk-toggleable__content pre {margin: 0.2em;color: black;border-radius: 0.25em;background-color: #f0f8ff;}#sk-container-id-1 input.sk-toggleable__control:checked~div.sk-toggleable__content {max-height: 200px;max-width: 100%;overflow: auto;}#sk-container-id-1 input.sk-toggleable__control:checked~label.sk-toggleable__label-arrow:before {content: \"▾\";}#sk-container-id-1 div.sk-estimator input.sk-toggleable__control:checked~label.sk-toggleable__label {background-color: #d4ebff;}#sk-container-id-1 div.sk-label input.sk-toggleable__control:checked~label.sk-toggleable__label {background-color: #d4ebff;}#sk-container-id-1 input.sk-hidden--visually {border: 0;clip: rect(1px 1px 1px 1px);clip: rect(1px, 1px, 1px, 1px);height: 1px;margin: -1px;overflow: hidden;padding: 0;position: absolute;width: 1px;}#sk-container-id-1 div.sk-estimator {font-family: monospace;background-color: #f0f8ff;border: 1px dotted black;border-radius: 0.25em;box-sizing: border-box;margin-bottom: 0.5em;}#sk-container-id-1 div.sk-estimator:hover {background-color: #d4ebff;}#sk-container-id-1 div.sk-parallel-item::after {content: \"\";width: 100%;border-bottom: 1px solid gray;flex-grow: 1;}#sk-container-id-1 div.sk-label:hover label.sk-toggleable__label {background-color: #d4ebff;}#sk-container-id-1 div.sk-serial::before {content: \"\";position: absolute;border-left: 1px solid gray;box-sizing: border-box;top: 0;bottom: 0;left: 50%;z-index: 0;}#sk-container-id-1 div.sk-serial {display: flex;flex-direction: column;align-items: center;background-color: white;padding-right: 0.2em;padding-left: 0.2em;position: relative;}#sk-container-id-1 div.sk-item {position: relative;z-index: 1;}#sk-container-id-1 div.sk-parallel {display: flex;align-items: stretch;justify-content: center;background-color: white;position: relative;}#sk-container-id-1 div.sk-item::before, #sk-container-id-1 div.sk-parallel-item::before {content: \"\";position: absolute;border-left: 1px solid gray;box-sizing: border-box;top: 0;bottom: 0;left: 50%;z-index: -1;}#sk-container-id-1 div.sk-parallel-item {display: flex;flex-direction: column;z-index: 1;position: relative;background-color: white;}#sk-container-id-1 div.sk-parallel-item:first-child::after {align-self: flex-end;width: 50%;}#sk-container-id-1 div.sk-parallel-item:last-child::after {align-self: flex-start;width: 50%;}#sk-container-id-1 div.sk-parallel-item:only-child::after {width: 0;}#sk-container-id-1 div.sk-dashed-wrapped {border: 1px dashed gray;margin: 0 0.4em 0.5em 0.4em;box-sizing: border-box;padding-bottom: 0.4em;background-color: white;}#sk-container-id-1 div.sk-label label {font-family: monospace;font-weight: bold;display: inline-block;line-height: 1.2em;}#sk-container-id-1 div.sk-label-container {text-align: center;}#sk-container-id-1 div.sk-container {/* jupyter's `normalize.less` sets `[hidden] { display: none; }` but bootstrap.min.css set `[hidden] { display: none !important; }` so we also need the `!important` here to be able to override the default hidden behavior on the sphinx rendered scikit-learn.org. See: https://github.com/scikit-learn/scikit-learn/issues/21755 */display: inline-block !important;position: relative;}#sk-container-id-1 div.sk-text-repr-fallback {display: none;}</style><div id=\"sk-container-id-1\" class=\"sk-top-container\"><div class=\"sk-text-repr-fallback\"><pre>KMeans(random_state=42)</pre><b>In a Jupyter environment, please rerun this cell to show the HTML representation or trust the notebook. <br />On GitHub, the HTML representation is unable to render, please try loading this page with nbviewer.org.</b></div><div class=\"sk-container\" hidden><div class=\"sk-item\"><div class=\"sk-estimator sk-toggleable\"><input class=\"sk-toggleable__control sk-hidden--visually\" id=\"sk-estimator-id-1\" type=\"checkbox\" checked><label for=\"sk-estimator-id-1\" class=\"sk-toggleable__label sk-toggleable__label-arrow\">KMeans</label><div class=\"sk-toggleable__content\"><pre>KMeans(random_state=42)</pre></div></div></div></div></div>"
      ],
      "text/plain": [
       "KMeans(random_state=42)"
      ]
     },
     "execution_count": 32,
     "metadata": {},
     "output_type": "execute_result"
    }
   ],
   "source": [
    "# train the model\n",
    "kmeans.fit(X_scaled)"
   ]
  },
  {
   "cell_type": "code",
   "execution_count": 33,
   "id": "8ddc75ca",
   "metadata": {},
   "outputs": [],
   "source": [
    "# add the cluster value to the dataset\n",
    "customer_data['Cluster'] = kmeans.labels_"
   ]
  },
  {
   "cell_type": "code",
   "execution_count": 34,
   "id": "3a533537",
   "metadata": {},
   "outputs": [
    {
     "data": {
      "text/plain": [
       "array([[-0.1952721 , -0.50431467,  1.16891916, -0.3205125 ,  0.09649821,\n",
       "        -0.27299569, -0.49335004],\n",
       "       [ 0.64803235,  1.07570515,  1.10978573,  0.30597087,  0.0590711 ,\n",
       "        -0.27305927,  0.10824958],\n",
       "       [-0.22968114, -0.52951321, -0.53347796, -0.3310665 ,  0.32707571,\n",
       "         0.8149465 ,  2.01969913],\n",
       "       [ 0.15842712,  0.52304249,  0.16536032,  5.15742659,  0.25972471,\n",
       "         0.41960931,  0.10949354],\n",
       "       [-0.42971402, -0.66078423, -0.84253979, -0.62308215,  0.01845146,\n",
       "        -0.51607069, -0.73285203],\n",
       "       [ 0.24696278,  0.42212311,  0.05377954, -0.80238585, -4.20111847,\n",
       "        -1.47708843, -0.7244652 ],\n",
       "       [ 0.58812732,  0.82480249, -0.84253979,  0.20776253,  0.09316652,\n",
       "        -0.26042447,  0.03947822],\n",
       "       [-0.56326757, -0.58955922, -0.17667915,  0.43507309,  0.45324124,\n",
       "         1.52329496,  0.22486701]])"
      ]
     },
     "execution_count": 34,
     "metadata": {},
     "output_type": "execute_result"
    }
   ],
   "source": [
    "kmeans.cluster_centers_"
   ]
  },
  {
   "cell_type": "code",
   "execution_count": 35,
   "id": "ea281c25",
   "metadata": {},
   "outputs": [
    {
     "data": {
      "text/plain": [
       "array([4, 4, 4, ..., 0, 0, 0])"
      ]
     },
     "execution_count": 35,
     "metadata": {},
     "output_type": "execute_result"
    }
   ],
   "source": [
    "kmeans.labels_"
   ]
  },
  {
   "cell_type": "code",
   "execution_count": 37,
   "id": "807a044c",
   "metadata": {},
   "outputs": [],
   "source": [
    "customer_data.to_csv(r'D:\\BISI\\CST2106\\final project\\starbucks\\dataclean1117\\kmeanlabel.csv', index=False)"
   ]
  },
  {
   "cell_type": "code",
   "execution_count": null,
   "id": "534c9621",
   "metadata": {},
   "outputs": [],
   "source": [
    "# visualization for the clusters selected some features\n",
    "plt.scatter(customer_data['income'], customer_data['transactions_counts'], c=customer_data['Cluster'], cmap='viridis')\n",
    "plt.xlabel('income')\n",
    "plt.ylabel('transactions_counts')\n",
    "plt.title('Customer Segmentation using K-Means')\n",
    "plt.show()"
   ]
  }
 ],
 "metadata": {
  "kernelspec": {
   "display_name": "Python 3 (ipykernel)",
   "language": "python",
   "name": "python3"
  },
  "language_info": {
   "codemirror_mode": {
    "name": "ipython",
    "version": 3
   },
   "file_extension": ".py",
   "mimetype": "text/x-python",
   "name": "python",
   "nbconvert_exporter": "python",
   "pygments_lexer": "ipython3",
   "version": "3.11.4"
  }
 },
 "nbformat": 4,
 "nbformat_minor": 5
}
