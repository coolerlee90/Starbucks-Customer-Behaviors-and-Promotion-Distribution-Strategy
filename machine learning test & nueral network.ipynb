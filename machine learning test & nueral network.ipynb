{
 "cells": [
  {
   "cell_type": "code",
   "execution_count": 2,
   "id": "53f2747d",
   "metadata": {},
   "outputs": [],
   "source": [
    "import pandas as pd\n",
    "import numpy as np\n",
    "import matplotlib.pyplot as plt\n",
    "%matplotlib inline\n",
    "pd.set_option('display.max_columns', 50)"
   ]
  },
  {
   "cell_type": "code",
   "execution_count": 64,
   "id": "077681c6",
   "metadata": {},
   "outputs": [],
   "source": [
    "## Linear Regression Model\n",
    "\n"
   ]
  },
  {
   "cell_type": "code",
   "execution_count": 65,
   "id": "e53b5c81",
   "metadata": {},
   "outputs": [
    {
     "data": {
      "text/html": [
       "<div>\n",
       "<style scoped>\n",
       "    .dataframe tbody tr th:only-of-type {\n",
       "        vertical-align: middle;\n",
       "    }\n",
       "\n",
       "    .dataframe tbody tr th {\n",
       "        vertical-align: top;\n",
       "    }\n",
       "\n",
       "    .dataframe thead th {\n",
       "        text-align: right;\n",
       "    }\n",
       "</style>\n",
       "<table border=\"1\" class=\"dataframe\">\n",
       "  <thead>\n",
       "    <tr style=\"text-align: right;\">\n",
       "      <th></th>\n",
       "      <th>Recency</th>\n",
       "      <th>Frequency</th>\n",
       "      <th>Monetary</th>\n",
       "      <th>bogo?</th>\n",
       "      <th>discount?</th>\n",
       "    </tr>\n",
       "  </thead>\n",
       "  <tbody>\n",
       "    <tr>\n",
       "      <th>0</th>\n",
       "      <td>0</td>\n",
       "      <td>0</td>\n",
       "      <td>0</td>\n",
       "      <td>0</td>\n",
       "      <td>0</td>\n",
       "    </tr>\n",
       "    <tr>\n",
       "      <th>1</th>\n",
       "      <td>0</td>\n",
       "      <td>0</td>\n",
       "      <td>0</td>\n",
       "      <td>0</td>\n",
       "      <td>0</td>\n",
       "    </tr>\n",
       "    <tr>\n",
       "      <th>2</th>\n",
       "      <td>0</td>\n",
       "      <td>1</td>\n",
       "      <td>1</td>\n",
       "      <td>1</td>\n",
       "      <td>0</td>\n",
       "    </tr>\n",
       "    <tr>\n",
       "      <th>3</th>\n",
       "      <td>0</td>\n",
       "      <td>0</td>\n",
       "      <td>0</td>\n",
       "      <td>0</td>\n",
       "      <td>0</td>\n",
       "    </tr>\n",
       "    <tr>\n",
       "      <th>4</th>\n",
       "      <td>1</td>\n",
       "      <td>0</td>\n",
       "      <td>0</td>\n",
       "      <td>0</td>\n",
       "      <td>1</td>\n",
       "    </tr>\n",
       "  </tbody>\n",
       "</table>\n",
       "</div>"
      ],
      "text/plain": [
       "   Recency  Frequency  Monetary  bogo?  discount?\n",
       "0        0          0         0      0          0\n",
       "1        0          0         0      0          0\n",
       "2        0          1         1      1          0\n",
       "3        0          0         0      0          0\n",
       "4        1          0         0      0          1"
      ]
     },
     "execution_count": 65,
     "metadata": {},
     "output_type": "execute_result"
    }
   ],
   "source": [
    "# next load the data\n",
    "df = pd.read_excel(r'C:\\Users\\syzha\\Downloads\\RMF-Offer.xlsx')\n",
    "df.head()"
   ]
  },
  {
   "cell_type": "code",
   "execution_count": 66,
   "id": "70af1a0e",
   "metadata": {},
   "outputs": [
    {
     "data": {
      "text/plain": [
       "(14825, 5)"
      ]
     },
     "execution_count": 66,
     "metadata": {},
     "output_type": "execute_result"
    }
   ],
   "source": [
    "df.shape"
   ]
  },
  {
   "cell_type": "code",
   "execution_count": 67,
   "id": "9df6d3e0",
   "metadata": {},
   "outputs": [
    {
     "data": {
      "text/html": [
       "<div>\n",
       "<style scoped>\n",
       "    .dataframe tbody tr th:only-of-type {\n",
       "        vertical-align: middle;\n",
       "    }\n",
       "\n",
       "    .dataframe tbody tr th {\n",
       "        vertical-align: top;\n",
       "    }\n",
       "\n",
       "    .dataframe thead th {\n",
       "        text-align: right;\n",
       "    }\n",
       "</style>\n",
       "<table border=\"1\" class=\"dataframe\">\n",
       "  <thead>\n",
       "    <tr style=\"text-align: right;\">\n",
       "      <th></th>\n",
       "      <th>Recency</th>\n",
       "      <th>Frequency</th>\n",
       "      <th>Monetary</th>\n",
       "      <th>bogo?</th>\n",
       "      <th>discount?</th>\n",
       "    </tr>\n",
       "  </thead>\n",
       "  <tbody>\n",
       "    <tr>\n",
       "      <th>Recency</th>\n",
       "      <td>1.000000</td>\n",
       "      <td>0.193749</td>\n",
       "      <td>0.177754</td>\n",
       "      <td>0.113935</td>\n",
       "      <td>0.180768</td>\n",
       "    </tr>\n",
       "    <tr>\n",
       "      <th>Frequency</th>\n",
       "      <td>0.193749</td>\n",
       "      <td>1.000000</td>\n",
       "      <td>0.585965</td>\n",
       "      <td>0.522213</td>\n",
       "      <td>0.489658</td>\n",
       "    </tr>\n",
       "    <tr>\n",
       "      <th>Monetary</th>\n",
       "      <td>0.177754</td>\n",
       "      <td>0.585965</td>\n",
       "      <td>1.000000</td>\n",
       "      <td>0.476083</td>\n",
       "      <td>0.408521</td>\n",
       "    </tr>\n",
       "    <tr>\n",
       "      <th>bogo?</th>\n",
       "      <td>0.113935</td>\n",
       "      <td>0.522213</td>\n",
       "      <td>0.476083</td>\n",
       "      <td>1.000000</td>\n",
       "      <td>0.232720</td>\n",
       "    </tr>\n",
       "    <tr>\n",
       "      <th>discount?</th>\n",
       "      <td>0.180768</td>\n",
       "      <td>0.489658</td>\n",
       "      <td>0.408521</td>\n",
       "      <td>0.232720</td>\n",
       "      <td>1.000000</td>\n",
       "    </tr>\n",
       "  </tbody>\n",
       "</table>\n",
       "</div>"
      ],
      "text/plain": [
       "            Recency  Frequency  Monetary     bogo?  discount?\n",
       "Recency    1.000000   0.193749  0.177754  0.113935   0.180768\n",
       "Frequency  0.193749   1.000000  0.585965  0.522213   0.489658\n",
       "Monetary   0.177754   0.585965  1.000000  0.476083   0.408521\n",
       "bogo?      0.113935   0.522213  0.476083  1.000000   0.232720\n",
       "discount?  0.180768   0.489658  0.408521  0.232720   1.000000"
      ]
     },
     "execution_count": 67,
     "metadata": {},
     "output_type": "execute_result"
    }
   ],
   "source": [
    "df.corr()"
   ]
  },
  {
   "cell_type": "code",
   "execution_count": 68,
   "id": "40d2bb5c",
   "metadata": {},
   "outputs": [],
   "source": [
    "# import linear regression model\n",
    "from sklearn.linear_model import LinearRegression"
   ]
  },
  {
   "cell_type": "code",
   "execution_count": 69,
   "id": "f0ec1b36",
   "metadata": {},
   "outputs": [],
   "source": [
    "# seperate input features in x\n",
    "x = df.drop(['bogo?','discount?'], axis=1)\n",
    "\n",
    "# store the target variable in y\n",
    "y1= df['bogo?']\n",
    "y2= df['discount?']"
   ]
  },
  {
   "cell_type": "code",
   "execution_count": 70,
   "id": "603016f8",
   "metadata": {},
   "outputs": [],
   "source": [
    "# import module\n",
    "from sklearn.model_selection import train_test_split\n",
    "\n",
    "# Split the dataset for 'bogo'\n",
    "x_train, x_test, y1_train, y1_test = train_test_split(x,y1, test_size=0.2, random_state=1234)"
   ]
  },
  {
   "cell_type": "code",
   "execution_count": 71,
   "id": "39da5736",
   "metadata": {},
   "outputs": [
    {
     "data": {
      "text/plain": [
       "((11860, 3), (11860,), (2965, 3), (2965,))"
      ]
     },
     "execution_count": 71,
     "metadata": {},
     "output_type": "execute_result"
    }
   ],
   "source": [
    "x_train.shape, y1_train.shape, x_test.shape, y1_test.shape"
   ]
  },
  {
   "cell_type": "code",
   "execution_count": 72,
   "id": "18d5a972",
   "metadata": {},
   "outputs": [],
   "source": [
    "# train your model\n",
    "lrmodel1 = LinearRegression().fit(x_train,y1_train)\n",
    "\n",
    "# make preditions on train set\n",
    "train_pred1 = lrmodel1.predict(x_train)"
   ]
  },
  {
   "cell_type": "code",
   "execution_count": 73,
   "id": "38578652",
   "metadata": {},
   "outputs": [
    {
     "name": "stdout",
     "output_type": "stream",
     "text": [
      "y1 Train error is 0.3300332341165023\n"
     ]
    }
   ],
   "source": [
    "# evaluate your model\n",
    "# we need mean absolute error\n",
    "from sklearn.metrics import mean_absolute_error\n",
    "\n",
    "train_mae1 = mean_absolute_error(train_pred1, y1_train)\n",
    "print('y1 Train error is', train_mae1)"
   ]
  },
  {
   "cell_type": "code",
   "execution_count": 74,
   "id": "8dd5efda",
   "metadata": {},
   "outputs": [
    {
     "data": {
      "text/plain": [
       "array([0.0061242 , 0.36598856, 0.24592989])"
      ]
     },
     "execution_count": 74,
     "metadata": {},
     "output_type": "execute_result"
    }
   ],
   "source": [
    "lrmodel1.coef_"
   ]
  },
  {
   "cell_type": "code",
   "execution_count": 75,
   "id": "70b3d1e4",
   "metadata": {},
   "outputs": [
    {
     "data": {
      "text/plain": [
       "0.32031928159983153"
      ]
     },
     "execution_count": 75,
     "metadata": {},
     "output_type": "execute_result"
    }
   ],
   "source": [
    "lrmodel1.intercept_"
   ]
  },
  {
   "cell_type": "code",
   "execution_count": 76,
   "id": "7e37d86d",
   "metadata": {},
   "outputs": [
    {
     "name": "stdout",
     "output_type": "stream",
     "text": [
      "y1 Test error is 0.32280375391946375\n"
     ]
    }
   ],
   "source": [
    "# make predictions on test set\n",
    "y1pred = lrmodel1.predict(x_test)\n",
    "\n",
    "#evaluate the model\n",
    "test_mae1 = mean_absolute_error(y1pred, y1_test)\n",
    "print('y1 Test error is', test_mae1)"
   ]
  },
  {
   "cell_type": "code",
   "execution_count": null,
   "id": "e43ae0ec",
   "metadata": {},
   "outputs": [],
   "source": []
  },
  {
   "cell_type": "code",
   "execution_count": null,
   "id": "6b39ade6",
   "metadata": {},
   "outputs": [],
   "source": [
    "## Decision Tree Model\n",
    "\n",
    "\n"
   ]
  },
  {
   "cell_type": "code",
   "execution_count": 99,
   "id": "21fa5cb6",
   "metadata": {},
   "outputs": [],
   "source": [
    "# import decision tree model\n",
    "from sklearn.tree import DecisionTreeRegressor"
   ]
  },
  {
   "cell_type": "code",
   "execution_count": 100,
   "id": "b698227b",
   "metadata": {},
   "outputs": [],
   "source": [
    "# create an instance of the class\n",
    "dt = DecisionTreeRegressor(max_depth=3, max_features=10, random_state=567)"
   ]
  },
  {
   "cell_type": "code",
   "execution_count": 101,
   "id": "6c439d4d",
   "metadata": {},
   "outputs": [],
   "source": [
    "# train the model\n",
    "dtmodel1 = dt.fit(x_train,y1_train)"
   ]
  },
  {
   "cell_type": "code",
   "execution_count": 102,
   "id": "060107b8",
   "metadata": {},
   "outputs": [],
   "source": [
    "# make predictions using the test set\n",
    "y1test_pred = dtmodel1.predict(x_test)"
   ]
  },
  {
   "cell_type": "code",
   "execution_count": 104,
   "id": "f2839069",
   "metadata": {},
   "outputs": [
    {
     "data": {
      "text/plain": [
       "0.3193466770971314"
      ]
     },
     "execution_count": 104,
     "metadata": {},
     "output_type": "execute_result"
    }
   ],
   "source": [
    "# evaluate the model\n",
    "test_mae1 = mean_absolute_error(y1test_pred, y1_test)\n",
    "test_mae1"
   ]
  },
  {
   "cell_type": "code",
   "execution_count": 105,
   "id": "37f4f607",
   "metadata": {},
   "outputs": [],
   "source": [
    "# make predictions on train set\n",
    "y1train_pred = dtmodel1.predict(x_train)"
   ]
  },
  {
   "cell_type": "code",
   "execution_count": 106,
   "id": "70727e17",
   "metadata": {},
   "outputs": [
    {
     "data": {
      "text/plain": [
       "0.32513675059092756"
      ]
     },
     "execution_count": 106,
     "metadata": {},
     "output_type": "execute_result"
    }
   ],
   "source": [
    "# import mean absolute error metric\n",
    "from sklearn.metrics import mean_absolute_error\n",
    "\n",
    "# evaluate the model\n",
    "train_mae1= mean_absolute_error(y1train_pred, y1_train)\n",
    "train_mae1"
   ]
  },
  {
   "cell_type": "code",
   "execution_count": 107,
   "id": "176483db",
   "metadata": {},
   "outputs": [
    {
     "data": {
      "text/plain": [
       "array(['Recency', 'Frequency', 'Monetary'], dtype=object)"
      ]
     },
     "execution_count": 107,
     "metadata": {},
     "output_type": "execute_result"
    }
   ],
   "source": [
    "# get the features\n",
    "dtmodel1.feature_names_in_"
   ]
  },
  {
   "cell_type": "code",
   "execution_count": 108,
   "id": "e7c7fef0",
   "metadata": {},
   "outputs": [
    {
     "data": {
      "image/png": "[encoded data removed]",
      "text/plain": [
       "<Figure size 640x480 with 1 Axes>"
      ]
     },
     "metadata": {},
     "output_type": "display_data"
    },
    {
     "data": {
      "text/plain": [
       "<Figure size 640x480 with 0 Axes>"
      ]
     },
     "metadata": {},
     "output_type": "display_data"
    }
   ],
   "source": [
    "# plot the tree\n",
    "from sklearn import tree\n",
    "\n",
    "# Plot the tree with feature names\n",
    "tree.plot_tree(dtmodel1, feature_names=dtmodel1.feature_names_in_.tolist())\n",
    "\n",
    "#tree.plot_tree(dtmodel)\n",
    "plt.show()\n",
    "\n",
    "# Save the plot to a file\n",
    "plt.savefig('tree.png', dpi=300)\n"
   ]
  },
  {
   "cell_type": "code",
   "execution_count": null,
   "id": "bd807035",
   "metadata": {},
   "outputs": [],
   "source": []
  },
  {
   "cell_type": "code",
   "execution_count": null,
   "id": "086a2267",
   "metadata": {},
   "outputs": [],
   "source": [
    "## Random Forest Model\n",
    "\n",
    "\n"
   ]
  },
  {
   "cell_type": "code",
   "execution_count": 110,
   "id": "a77d8c18",
   "metadata": {},
   "outputs": [],
   "source": [
    "# import Random Forest model\n",
    "from sklearn.ensemble import RandomForestRegressor"
   ]
  },
  {
   "cell_type": "code",
   "execution_count": 111,
   "id": "af1ba4bc",
   "metadata": {},
   "outputs": [],
   "source": [
    "# create an instance of the model\n",
    "rf = RandomForestRegressor(n_estimators=200, criterion='absolute_error')"
   ]
  },
  {
   "cell_type": "code",
   "execution_count": 112,
   "id": "32c4eb02",
   "metadata": {},
   "outputs": [],
   "source": [
    "# train the model\n",
    "rfmodel1 = rf.fit(x_train,y1_train)"
   ]
  },
  {
   "cell_type": "code",
   "execution_count": 113,
   "id": "7fc0fdda",
   "metadata": {},
   "outputs": [],
   "source": [
    "# make prediction on train set\n",
    "y1train_pred = rfmodel1.predict(x_train)"
   ]
  },
  {
   "cell_type": "code",
   "execution_count": 114,
   "id": "aa00871a",
   "metadata": {},
   "outputs": [],
   "source": [
    "# make predictions on the x_test values\n",
    "y1test_pred = rfmodel1.predict(x_test)"
   ]
  },
  {
   "cell_type": "code",
   "execution_count": 115,
   "id": "b4b706d8",
   "metadata": {},
   "outputs": [
    {
     "data": {
      "text/plain": [
       "0.21315345699831367"
      ]
     },
     "execution_count": 115,
     "metadata": {},
     "output_type": "execute_result"
    }
   ],
   "source": [
    "# evaluate the model\n",
    "test_mae1 = mean_absolute_error(y1test_pred, y1_test)\n",
    "test_mae1"
   ]
  },
  {
   "cell_type": "code",
   "execution_count": 116,
   "id": "fda26cc8",
   "metadata": {},
   "outputs": [
    {
     "data": {
      "text/plain": [
       "0.22588532883642495"
      ]
     },
     "execution_count": 116,
     "metadata": {},
     "output_type": "execute_result"
    }
   ],
   "source": [
    "train_mae1 = mean_absolute_error(y1train_pred, y1_train)\n",
    "train_mae1"
   ]
  },
  {
   "cell_type": "code",
   "execution_count": 119,
   "id": "f99c56c7",
   "metadata": {},
   "outputs": [
    {
     "data": {
      "text/plain": [
       "[Text(0.5, 0.875, 'Frequency <= 0.5\\nabsolute_error = 0.396\\nsamples = 7469\\nvalue = 1.0'),\n",
       " Text(0.25, 0.625, 'Monetary <= 0.5\\nabsolute_error = 0.388\\nsamples = 4260\\nvalue = 0.0'),\n",
       " Text(0.125, 0.375, 'Recency <= 0.5\\nabsolute_error = 0.305\\nsamples = 3191\\nvalue = 0.0'),\n",
       " Text(0.0625, 0.125, 'absolute_error = 0.29\\nsamples = 1383\\nvalue = 0.0'),\n",
       " Text(0.1875, 0.125, 'absolute_error = 0.317\\nsamples = 1808\\nvalue = 0.0'),\n",
       " Text(0.375, 0.375, 'Recency <= 0.5\\nabsolute_error = 0.362\\nsamples = 1069\\nvalue = 1.0'),\n",
       " Text(0.3125, 0.125, 'absolute_error = 0.36\\nsamples = 347\\nvalue = 1.0'),\n",
       " Text(0.4375, 0.125, 'absolute_error = 0.362\\nsamples = 722\\nvalue = 1.0'),\n",
       " Text(0.75, 0.625, 'Recency <= 0.5\\nabsolute_error = 0.105\\nsamples = 3209\\nvalue = 1.0'),\n",
       " Text(0.625, 0.375, 'Monetary <= 0.5\\nabsolute_error = 0.083\\nsamples = 712\\nvalue = 1.0'),\n",
       " Text(0.5625, 0.125, 'absolute_error = 0.165\\nsamples = 146\\nvalue = 1.0'),\n",
       " Text(0.6875, 0.125, 'absolute_error = 0.062\\nsamples = 566\\nvalue = 1.0'),\n",
       " Text(0.875, 0.375, 'Monetary <= 0.5\\nabsolute_error = 0.111\\nsamples = 2497\\nvalue = 1.0'),\n",
       " Text(0.8125, 0.125, 'absolute_error = 0.207\\nsamples = 375\\nvalue = 1.0'),\n",
       " Text(0.9375, 0.125, 'absolute_error = 0.094\\nsamples = 2122\\nvalue = 1.0')]"
      ]
     },
     "execution_count": 119,
     "metadata": {},
     "output_type": "execute_result"
    },
    {
     "data": {
      "image/png": "[encoded data removed]",
      "text/plain": [
       "<Figure size 640x480 with 1 Axes>"
      ]
     },
     "metadata": {},
     "output_type": "display_data"
    }
   ],
   "source": [
    "# Individual Decision Trees\n",
    "tree.plot_tree(rfmodel1.estimators_[2], feature_names=dtmodel1.feature_names_in_.tolist())"
   ]
  },
  {
   "cell_type": "code",
   "execution_count": 5,
   "id": "1b7656a4",
   "metadata": {},
   "outputs": [
    {
     "data": {
      "text/html": [
       "<div>\n",
       "<style scoped>\n",
       "    .dataframe tbody tr th:only-of-type {\n",
       "        vertical-align: middle;\n",
       "    }\n",
       "\n",
       "    .dataframe tbody tr th {\n",
       "        vertical-align: top;\n",
       "    }\n",
       "\n",
       "    .dataframe thead th {\n",
       "        text-align: right;\n",
       "    }\n",
       "</style>\n",
       "<table border=\"1\" class=\"dataframe\">\n",
       "  <thead>\n",
       "    <tr style=\"text-align: right;\">\n",
       "      <th></th>\n",
       "      <th>Column1</th>\n",
       "      <th>gender</th>\n",
       "      <th>age</th>\n",
       "      <th>person</th>\n",
       "      <th>became_member_on</th>\n",
       "      <th>r_year</th>\n",
       "      <th>r_month</th>\n",
       "      <th>r_day</th>\n",
       "      <th>income</th>\n",
       "      <th>LargestTimePerPerson</th>\n",
       "      <th>Recency</th>\n",
       "      <th>OfferUseFrequency</th>\n",
       "      <th>Frequency</th>\n",
       "      <th>SumAmountPerPerson</th>\n",
       "      <th>Monetary</th>\n",
       "      <th>bogo?</th>\n",
       "      <th>discount?</th>\n",
       "      <th>RFM Score</th>\n",
       "      <th>bogo1_received</th>\n",
       "      <th>bogo1_completed</th>\n",
       "      <th>bogo2_received</th>\n",
       "      <th>bogo2_completed</th>\n",
       "      <th>bogo3_received</th>\n",
       "      <th>bogo3_completed</th>\n",
       "      <th>bogo4_received</th>\n",
       "      <th>...</th>\n",
       "      <th>Second_interested_coupon</th>\n",
       "      <th>bogo1_viewed_timediff</th>\n",
       "      <th>bogo2_viewed_timediff</th>\n",
       "      <th>bogo3_viewed_timediff</th>\n",
       "      <th>bogo4_viewed_timediff</th>\n",
       "      <th>discount1_viewed_timediff</th>\n",
       "      <th>discount2_viewed_timediff</th>\n",
       "      <th>discount3_viewed_timediff</th>\n",
       "      <th>discount4_viewed_timediff</th>\n",
       "      <th>bogo1_completed_timediff</th>\n",
       "      <th>bogo2_completed_timediff</th>\n",
       "      <th>bogo3_completed_timediff</th>\n",
       "      <th>bogo4_completed_timediff</th>\n",
       "      <th>discount1_completed_timediff</th>\n",
       "      <th>discount2_completed_timediff</th>\n",
       "      <th>discount3_completed_timediff</th>\n",
       "      <th>discount4_completed_timediff</th>\n",
       "      <th>bogo1_sensitivity</th>\n",
       "      <th>bogo2_sensitivity</th>\n",
       "      <th>bogo3_sensitivity</th>\n",
       "      <th>bogo4_sensitivity</th>\n",
       "      <th>discont1_sensitivity</th>\n",
       "      <th>discont2_sensitivity</th>\n",
       "      <th>discont3_sensitivity</th>\n",
       "      <th>discont4_sensitivity</th>\n",
       "    </tr>\n",
       "  </thead>\n",
       "  <tbody>\n",
       "    <tr>\n",
       "      <th>0</th>\n",
       "      <td>59</td>\n",
       "      <td>M</td>\n",
       "      <td>45</td>\n",
       "      <td>186d6403f5824c739555b732f4af3f16</td>\n",
       "      <td>20171006</td>\n",
       "      <td>2017</td>\n",
       "      <td>10</td>\n",
       "      <td>6</td>\n",
       "      <td>48000</td>\n",
       "      <td>594</td>\n",
       "      <td>0</td>\n",
       "      <td>0</td>\n",
       "      <td>0</td>\n",
       "      <td>$17</td>\n",
       "      <td>0</td>\n",
       "      <td>0</td>\n",
       "      <td>0</td>\n",
       "      <td>0</td>\n",
       "      <td>1</td>\n",
       "      <td>0</td>\n",
       "      <td>0</td>\n",
       "      <td>0</td>\n",
       "      <td>0</td>\n",
       "      <td>0</td>\n",
       "      <td>0</td>\n",
       "      <td>...</td>\n",
       "      <td>bogo2</td>\n",
       "      <td>18</td>\n",
       "      <td>120</td>\n",
       "      <td>168</td>\n",
       "      <td>120</td>\n",
       "      <td>264</td>\n",
       "      <td>168</td>\n",
       "      <td>66</td>\n",
       "      <td>168</td>\n",
       "      <td>192</td>\n",
       "      <td>120</td>\n",
       "      <td>168</td>\n",
       "      <td>120</td>\n",
       "      <td>264</td>\n",
       "      <td>168</td>\n",
       "      <td>264</td>\n",
       "      <td>168</td>\n",
       "      <td>0.000000</td>\n",
       "      <td>0.0</td>\n",
       "      <td>0.000000</td>\n",
       "      <td>0.0</td>\n",
       "      <td>0.0</td>\n",
       "      <td>0.000000</td>\n",
       "      <td>0.0</td>\n",
       "      <td>0.0</td>\n",
       "    </tr>\n",
       "    <tr>\n",
       "      <th>1</th>\n",
       "      <td>136</td>\n",
       "      <td>M</td>\n",
       "      <td>45</td>\n",
       "      <td>77927096ab4144fa930b4cadd4773cc2</td>\n",
       "      <td>20171007</td>\n",
       "      <td>2017</td>\n",
       "      <td>10</td>\n",
       "      <td>7</td>\n",
       "      <td>31000</td>\n",
       "      <td>462</td>\n",
       "      <td>0</td>\n",
       "      <td>0</td>\n",
       "      <td>0</td>\n",
       "      <td>$16.46</td>\n",
       "      <td>0</td>\n",
       "      <td>0</td>\n",
       "      <td>0</td>\n",
       "      <td>0</td>\n",
       "      <td>0</td>\n",
       "      <td>0</td>\n",
       "      <td>1</td>\n",
       "      <td>0</td>\n",
       "      <td>0</td>\n",
       "      <td>0</td>\n",
       "      <td>1</td>\n",
       "      <td>...</td>\n",
       "      <td>bogo2</td>\n",
       "      <td>168</td>\n",
       "      <td>6</td>\n",
       "      <td>168</td>\n",
       "      <td>12</td>\n",
       "      <td>264</td>\n",
       "      <td>168</td>\n",
       "      <td>240</td>\n",
       "      <td>168</td>\n",
       "      <td>168</td>\n",
       "      <td>144</td>\n",
       "      <td>168</td>\n",
       "      <td>144</td>\n",
       "      <td>264</td>\n",
       "      <td>168</td>\n",
       "      <td>240</td>\n",
       "      <td>168</td>\n",
       "      <td>0.000000</td>\n",
       "      <td>0.0</td>\n",
       "      <td>0.000000</td>\n",
       "      <td>0.0</td>\n",
       "      <td>0.0</td>\n",
       "      <td>0.000000</td>\n",
       "      <td>0.0</td>\n",
       "      <td>0.0</td>\n",
       "    </tr>\n",
       "    <tr>\n",
       "      <th>2</th>\n",
       "      <td>160</td>\n",
       "      <td>M</td>\n",
       "      <td>38</td>\n",
       "      <td>d8567f1400d8486cb31c6abba64389ec</td>\n",
       "      <td>20171019</td>\n",
       "      <td>2017</td>\n",
       "      <td>10</td>\n",
       "      <td>19</td>\n",
       "      <td>64000</td>\n",
       "      <td>606</td>\n",
       "      <td>0</td>\n",
       "      <td>3</td>\n",
       "      <td>1</td>\n",
       "      <td>$150.94</td>\n",
       "      <td>1</td>\n",
       "      <td>1</td>\n",
       "      <td>0</td>\n",
       "      <td>11</td>\n",
       "      <td>2</td>\n",
       "      <td>2</td>\n",
       "      <td>0</td>\n",
       "      <td>0</td>\n",
       "      <td>1</td>\n",
       "      <td>1</td>\n",
       "      <td>0</td>\n",
       "      <td>...</td>\n",
       "      <td>bogo3</td>\n",
       "      <td>0</td>\n",
       "      <td>120</td>\n",
       "      <td>192</td>\n",
       "      <td>120</td>\n",
       "      <td>240</td>\n",
       "      <td>168</td>\n",
       "      <td>240</td>\n",
       "      <td>168</td>\n",
       "      <td>24</td>\n",
       "      <td>120</td>\n",
       "      <td>30</td>\n",
       "      <td>120</td>\n",
       "      <td>240</td>\n",
       "      <td>168</td>\n",
       "      <td>240</td>\n",
       "      <td>168</td>\n",
       "      <td>0.857143</td>\n",
       "      <td>0.0</td>\n",
       "      <td>0.821429</td>\n",
       "      <td>0.0</td>\n",
       "      <td>0.0</td>\n",
       "      <td>0.000000</td>\n",
       "      <td>0.0</td>\n",
       "      <td>0.0</td>\n",
       "    </tr>\n",
       "    <tr>\n",
       "      <th>3</th>\n",
       "      <td>178</td>\n",
       "      <td>M</td>\n",
       "      <td>55</td>\n",
       "      <td>3bd5ba038a5c46cc94e8cd5e5739c967</td>\n",
       "      <td>20171025</td>\n",
       "      <td>2017</td>\n",
       "      <td>10</td>\n",
       "      <td>25</td>\n",
       "      <td>65000</td>\n",
       "      <td>528</td>\n",
       "      <td>0</td>\n",
       "      <td>0</td>\n",
       "      <td>0</td>\n",
       "      <td>$16.69</td>\n",
       "      <td>0</td>\n",
       "      <td>0</td>\n",
       "      <td>0</td>\n",
       "      <td>0</td>\n",
       "      <td>1</td>\n",
       "      <td>0</td>\n",
       "      <td>1</td>\n",
       "      <td>0</td>\n",
       "      <td>0</td>\n",
       "      <td>0</td>\n",
       "      <td>0</td>\n",
       "      <td>...</td>\n",
       "      <td>bogo2</td>\n",
       "      <td>132</td>\n",
       "      <td>18</td>\n",
       "      <td>168</td>\n",
       "      <td>120</td>\n",
       "      <td>240</td>\n",
       "      <td>168</td>\n",
       "      <td>240</td>\n",
       "      <td>168</td>\n",
       "      <td>192</td>\n",
       "      <td>144</td>\n",
       "      <td>168</td>\n",
       "      <td>120</td>\n",
       "      <td>240</td>\n",
       "      <td>168</td>\n",
       "      <td>240</td>\n",
       "      <td>168</td>\n",
       "      <td>0.000000</td>\n",
       "      <td>0.0</td>\n",
       "      <td>0.000000</td>\n",
       "      <td>0.0</td>\n",
       "      <td>0.0</td>\n",
       "      <td>0.000000</td>\n",
       "      <td>0.0</td>\n",
       "      <td>0.0</td>\n",
       "    </tr>\n",
       "    <tr>\n",
       "      <th>4</th>\n",
       "      <td>238</td>\n",
       "      <td>M</td>\n",
       "      <td>44</td>\n",
       "      <td>09e7e40eb89943458f4f79fe2e023dd6</td>\n",
       "      <td>20171011</td>\n",
       "      <td>2017</td>\n",
       "      <td>10</td>\n",
       "      <td>11</td>\n",
       "      <td>36000</td>\n",
       "      <td>678</td>\n",
       "      <td>1</td>\n",
       "      <td>1</td>\n",
       "      <td>0</td>\n",
       "      <td>$21.56</td>\n",
       "      <td>0</td>\n",
       "      <td>0</td>\n",
       "      <td>1</td>\n",
       "      <td>100</td>\n",
       "      <td>0</td>\n",
       "      <td>0</td>\n",
       "      <td>0</td>\n",
       "      <td>0</td>\n",
       "      <td>0</td>\n",
       "      <td>0</td>\n",
       "      <td>0</td>\n",
       "      <td>...</td>\n",
       "      <td>bogo1</td>\n",
       "      <td>168</td>\n",
       "      <td>120</td>\n",
       "      <td>168</td>\n",
       "      <td>120</td>\n",
       "      <td>240</td>\n",
       "      <td>0</td>\n",
       "      <td>6</td>\n",
       "      <td>192</td>\n",
       "      <td>168</td>\n",
       "      <td>120</td>\n",
       "      <td>168</td>\n",
       "      <td>120</td>\n",
       "      <td>240</td>\n",
       "      <td>102</td>\n",
       "      <td>264</td>\n",
       "      <td>192</td>\n",
       "      <td>0.000000</td>\n",
       "      <td>0.0</td>\n",
       "      <td>0.000000</td>\n",
       "      <td>0.0</td>\n",
       "      <td>0.0</td>\n",
       "      <td>0.392857</td>\n",
       "      <td>0.0</td>\n",
       "      <td>0.0</td>\n",
       "    </tr>\n",
       "  </tbody>\n",
       "</table>\n",
       "<p>5 rows × 126 columns</p>\n",
       "</div>"
      ],
      "text/plain": [
       "   Column1 gender  age                            person  became_member_on  \\\n",
       "0       59      M   45  186d6403f5824c739555b732f4af3f16          20171006   \n",
       "1      136      M   45  77927096ab4144fa930b4cadd4773cc2          20171007   \n",
       "2      160      M   38  d8567f1400d8486cb31c6abba64389ec          20171019   \n",
       "3      178      M   55  3bd5ba038a5c46cc94e8cd5e5739c967          20171025   \n",
       "4      238      M   44  09e7e40eb89943458f4f79fe2e023dd6          20171011   \n",
       "\n",
       "   r_year  r_month  r_day  income  LargestTimePerPerson  Recency  \\\n",
       "0    2017       10      6   48000                   594        0   \n",
       "1    2017       10      7   31000                   462        0   \n",
       "2    2017       10     19   64000                   606        0   \n",
       "3    2017       10     25   65000                   528        0   \n",
       "4    2017       10     11   36000                   678        1   \n",
       "\n",
       "   OfferUseFrequency  Frequency SumAmountPerPerson  Monetary  bogo?  \\\n",
       "0                  0          0                $17         0      0   \n",
       "1                  0          0             $16.46         0      0   \n",
       "2                  3          1            $150.94         1      1   \n",
       "3                  0          0             $16.69         0      0   \n",
       "4                  1          0             $21.56         0      0   \n",
       "\n",
       "   discount?  RFM Score  bogo1_received  bogo1_completed  bogo2_received  \\\n",
       "0          0          0               1                0               0   \n",
       "1          0          0               0                0               1   \n",
       "2          0         11               2                2               0   \n",
       "3          0          0               1                0               1   \n",
       "4          1        100               0                0               0   \n",
       "\n",
       "   bogo2_completed  bogo3_received  bogo3_completed  bogo4_received  ...  \\\n",
       "0                0               0                0               0  ...   \n",
       "1                0               0                0               1  ...   \n",
       "2                0               1                1               0  ...   \n",
       "3                0               0                0               0  ...   \n",
       "4                0               0                0               0  ...   \n",
       "\n",
       "   Second_interested_coupon  bogo1_viewed_timediff  bogo2_viewed_timediff  \\\n",
       "0                     bogo2                     18                    120   \n",
       "1                     bogo2                    168                      6   \n",
       "2                     bogo3                      0                    120   \n",
       "3                     bogo2                    132                     18   \n",
       "4                     bogo1                    168                    120   \n",
       "\n",
       "   bogo3_viewed_timediff  bogo4_viewed_timediff  discount1_viewed_timediff  \\\n",
       "0                    168                    120                        264   \n",
       "1                    168                     12                        264   \n",
       "2                    192                    120                        240   \n",
       "3                    168                    120                        240   \n",
       "4                    168                    120                        240   \n",
       "\n",
       "   discount2_viewed_timediff  discount3_viewed_timediff  \\\n",
       "0                        168                         66   \n",
       "1                        168                        240   \n",
       "2                        168                        240   \n",
       "3                        168                        240   \n",
       "4                          0                          6   \n",
       "\n",
       "   discount4_viewed_timediff  bogo1_completed_timediff  \\\n",
       "0                        168                       192   \n",
       "1                        168                       168   \n",
       "2                        168                        24   \n",
       "3                        168                       192   \n",
       "4                        192                       168   \n",
       "\n",
       "   bogo2_completed_timediff  bogo3_completed_timediff  \\\n",
       "0                       120                       168   \n",
       "1                       144                       168   \n",
       "2                       120                        30   \n",
       "3                       144                       168   \n",
       "4                       120                       168   \n",
       "\n",
       "   bogo4_completed_timediff  discount1_completed_timediff  \\\n",
       "0                       120                           264   \n",
       "1                       144                           264   \n",
       "2                       120                           240   \n",
       "3                       120                           240   \n",
       "4                       120                           240   \n",
       "\n",
       "   discount2_completed_timediff  discount3_completed_timediff  \\\n",
       "0                           168                           264   \n",
       "1                           168                           240   \n",
       "2                           168                           240   \n",
       "3                           168                           240   \n",
       "4                           102                           264   \n",
       "\n",
       "   discount4_completed_timediff  bogo1_sensitivity  bogo2_sensitivity  \\\n",
       "0                           168           0.000000                0.0   \n",
       "1                           168           0.000000                0.0   \n",
       "2                           168           0.857143                0.0   \n",
       "3                           168           0.000000                0.0   \n",
       "4                           192           0.000000                0.0   \n",
       "\n",
       "   bogo3_sensitivity  bogo4_sensitivity  discont1_sensitivity  \\\n",
       "0           0.000000                0.0                   0.0   \n",
       "1           0.000000                0.0                   0.0   \n",
       "2           0.821429                0.0                   0.0   \n",
       "3           0.000000                0.0                   0.0   \n",
       "4           0.000000                0.0                   0.0   \n",
       "\n",
       "   discont2_sensitivity  discont3_sensitivity  discont4_sensitivity  \n",
       "0              0.000000                   0.0                   0.0  \n",
       "1              0.000000                   0.0                   0.0  \n",
       "2              0.000000                   0.0                   0.0  \n",
       "3              0.000000                   0.0                   0.0  \n",
       "4              0.392857                   0.0                   0.0  \n",
       "\n",
       "[5 rows x 126 columns]"
      ]
     },
     "execution_count": 5,
     "metadata": {},
     "output_type": "execute_result"
    }
   ],
   "source": [
    "# load the data\n",
    "df2 = pd.read_csv(r'C:\\Users\\syzha\\Downloads\\Profile_final_0111.csv')\n",
    "df2.head()"
   ]
  },
  {
   "cell_type": "code",
   "execution_count": 6,
   "id": "a4af477b",
   "metadata": {},
   "outputs": [
    {
     "data": {
      "text/plain": [
       "(14825, 126)"
      ]
     },
     "execution_count": 6,
     "metadata": {},
     "output_type": "execute_result"
    }
   ],
   "source": [
    "df2.shape"
   ]
  },
  {
   "cell_type": "code",
   "execution_count": 9,
   "id": "96aa6900",
   "metadata": {},
   "outputs": [
    {
     "data": {
      "text/plain": [
       "0    1\n",
       "1    1\n",
       "2    1\n",
       "3    1\n",
       "4    1\n",
       "Name: gender_LabelEncoded, dtype: int32"
      ]
     },
     "execution_count": 9,
     "metadata": {},
     "output_type": "execute_result"
    }
   ],
   "source": [
    "# Using LabelEncoder for label encoding\n",
    "\n",
    "from sklearn.preprocessing import LabelEncoder\n",
    "\n",
    "le = LabelEncoder()\n",
    "df2['gender_LabelEncoded'] = le.fit_transform(df2['gender'])\n",
    "df2['gender_LabelEncoded'].head()"
   ]
  },
  {
   "cell_type": "code",
   "execution_count": 10,
   "id": "b9e1109e",
   "metadata": {},
   "outputs": [],
   "source": [
    "x=df2[['age'\n",
    "       ,'gender_LabelEncoded'\n",
    "       ,'income'\n",
    "       ,'Recency'\n",
    "       ,'Frequency'\n",
    "       ,'Monetary'\n",
    "       \n",
    "       ,'bogo1_received'\n",
    "       ,'bogo2_received'\n",
    "       ,'bogo2_received'\n",
    "       ,'bogo2_received'\n",
    "       ,'discount1_received'\n",
    "       ,'discount2_received'\n",
    "       ,'discount3_received'\n",
    "       ,'discount4_received'\n",
    "       \n",
    "       ,'bogo1_difficulty'\n",
    "       ,'bogo2_difficulty'\n",
    "       ,'bogo3_difficulty'\n",
    "       ,'bogo4_difficulty'\n",
    "       ,'discount1_difficulty'\n",
    "       ,'discount2_difficulty'\n",
    "       ,'discount3_difficulty'\n",
    "       ,'discount4_difficulty'\n",
    "       \n",
    "       ,'bogo1_duration'\n",
    "       ,'bogo2_duration'\n",
    "       ,'bogo3_duration'\n",
    "       ,'bogo4_duration'\n",
    "       ,'discount1_duration'\n",
    "       ,'discount2_duration'\n",
    "       ,'discount3_duration'\n",
    "       ,'discount4_duration'\n",
    "       \n",
    "       ,'bogo1_completed_timediff'\n",
    "       ,'bogo2_completed_timediff'\n",
    "       ,'bogo3_completed_timediff'\n",
    "       ,'bogo4_completed_timediff'\n",
    "       ,'discount1_completed_timediff'\n",
    "       ,'discount2_completed_timediff'\n",
    "       ,'discount3_completed_timediff'\n",
    "       ,'discount4_completed_timediff'\n",
    "       \n",
    "       \n",
    "]]"
   ]
  },
  {
   "cell_type": "code",
   "execution_count": 11,
   "id": "ab9a7067",
   "metadata": {},
   "outputs": [],
   "source": [
    "y=df2[['bogo1_interest_score'\n",
    "       ,'bogo2_interest_score'\n",
    "       ,'bogo3_interest_score'\n",
    "       ,'bogo4_interest_score'\n",
    "       ,'discount1_interest_score'\n",
    "       ,'discount2_interest_score'\n",
    "       ,'discount3_interest_score'\n",
    "       ,'discount4_interest_score'\n",
    "    \n",
    "    \n",
    "]]"
   ]
  },
  {
   "cell_type": "code",
   "execution_count": 12,
   "id": "c1939f48",
   "metadata": {},
   "outputs": [],
   "source": [
    "# split the data\n",
    "from sklearn.model_selection import train_test_split"
   ]
  },
  {
   "cell_type": "code",
   "execution_count": 13,
   "id": "37d70050",
   "metadata": {},
   "outputs": [],
   "source": [
    "# Splitting the dataset into train and test data\n",
    "xtrain, xtest, ytrain, ytest =  train_test_split(x, y, test_size=0.2, random_state=234)"
   ]
  },
  {
   "cell_type": "code",
   "execution_count": 14,
   "id": "5cc01a5a",
   "metadata": {},
   "outputs": [],
   "source": [
    "# import standard scaler\n",
    "from sklearn.preprocessing import MinMaxScaler"
   ]
  },
  {
   "cell_type": "code",
   "execution_count": 15,
   "id": "94312990",
   "metadata": {},
   "outputs": [
    {
     "data": {
      "text/html": [
       "<style>#sk-container-id-1 {color: black;}#sk-container-id-1 pre{padding: 0;}#sk-container-id-1 div.sk-toggleable {background-color: white;}#sk-container-id-1 label.sk-toggleable__label {cursor: pointer;display: block;width: 100%;margin-bottom: 0;padding: 0.3em;box-sizing: border-box;text-align: center;}#sk-container-id-1 label.sk-toggleable__label-arrow:before {content: \"▸\";float: left;margin-right: 0.25em;color: #696969;}#sk-container-id-1 label.sk-toggleable__label-arrow:hover:before {color: black;}#sk-container-id-1 div.sk-estimator:hover label.sk-toggleable__label-arrow:before {color: black;}#sk-container-id-1 div.sk-toggleable__content {max-height: 0;max-width: 0;overflow: hidden;text-align: left;background-color: #f0f8ff;}#sk-container-id-1 div.sk-toggleable__content pre {margin: 0.2em;color: black;border-radius: 0.25em;background-color: #f0f8ff;}#sk-container-id-1 input.sk-toggleable__control:checked~div.sk-toggleable__content {max-height: 200px;max-width: 100%;overflow: auto;}#sk-container-id-1 input.sk-toggleable__control:checked~label.sk-toggleable__label-arrow:before {content: \"▾\";}#sk-container-id-1 div.sk-estimator input.sk-toggleable__control:checked~label.sk-toggleable__label {background-color: #d4ebff;}#sk-container-id-1 div.sk-label input.sk-toggleable__control:checked~label.sk-toggleable__label {background-color: #d4ebff;}#sk-container-id-1 input.sk-hidden--visually {border: 0;clip: rect(1px 1px 1px 1px);clip: rect(1px, 1px, 1px, 1px);height: 1px;margin: -1px;overflow: hidden;padding: 0;position: absolute;width: 1px;}#sk-container-id-1 div.sk-estimator {font-family: monospace;background-color: #f0f8ff;border: 1px dotted black;border-radius: 0.25em;box-sizing: border-box;margin-bottom: 0.5em;}#sk-container-id-1 div.sk-estimator:hover {background-color: #d4ebff;}#sk-container-id-1 div.sk-parallel-item::after {content: \"\";width: 100%;border-bottom: 1px solid gray;flex-grow: 1;}#sk-container-id-1 div.sk-label:hover label.sk-toggleable__label {background-color: #d4ebff;}#sk-container-id-1 div.sk-serial::before {content: \"\";position: absolute;border-left: 1px solid gray;box-sizing: border-box;top: 0;bottom: 0;left: 50%;z-index: 0;}#sk-container-id-1 div.sk-serial {display: flex;flex-direction: column;align-items: center;background-color: white;padding-right: 0.2em;padding-left: 0.2em;position: relative;}#sk-container-id-1 div.sk-item {position: relative;z-index: 1;}#sk-container-id-1 div.sk-parallel {display: flex;align-items: stretch;justify-content: center;background-color: white;position: relative;}#sk-container-id-1 div.sk-item::before, #sk-container-id-1 div.sk-parallel-item::before {content: \"\";position: absolute;border-left: 1px solid gray;box-sizing: border-box;top: 0;bottom: 0;left: 50%;z-index: -1;}#sk-container-id-1 div.sk-parallel-item {display: flex;flex-direction: column;z-index: 1;position: relative;background-color: white;}#sk-container-id-1 div.sk-parallel-item:first-child::after {align-self: flex-end;width: 50%;}#sk-container-id-1 div.sk-parallel-item:last-child::after {align-self: flex-start;width: 50%;}#sk-container-id-1 div.sk-parallel-item:only-child::after {width: 0;}#sk-container-id-1 div.sk-dashed-wrapped {border: 1px dashed gray;margin: 0 0.4em 0.5em 0.4em;box-sizing: border-box;padding-bottom: 0.4em;background-color: white;}#sk-container-id-1 div.sk-label label {font-family: monospace;font-weight: bold;display: inline-block;line-height: 1.2em;}#sk-container-id-1 div.sk-label-container {text-align: center;}#sk-container-id-1 div.sk-container {/* jupyter's `normalize.less` sets `[hidden] { display: none; }` but bootstrap.min.css set `[hidden] { display: none !important; }` so we also need the `!important` here to be able to override the default hidden behavior on the sphinx rendered scikit-learn.org. See: https://github.com/scikit-learn/scikit-learn/issues/21755 */display: inline-block !important;position: relative;}#sk-container-id-1 div.sk-text-repr-fallback {display: none;}</style><div id=\"sk-container-id-1\" class=\"sk-top-container\"><div class=\"sk-text-repr-fallback\"><pre>MinMaxScaler()</pre><b>In a Jupyter environment, please rerun this cell to show the HTML representation or trust the notebook. <br />On GitHub, the HTML representation is unable to render, please try loading this page with nbviewer.org.</b></div><div class=\"sk-container\" hidden><div class=\"sk-item\"><div class=\"sk-estimator sk-toggleable\"><input class=\"sk-toggleable__control sk-hidden--visually\" id=\"sk-estimator-id-1\" type=\"checkbox\" checked><label for=\"sk-estimator-id-1\" class=\"sk-toggleable__label sk-toggleable__label-arrow\">MinMaxScaler</label><div class=\"sk-toggleable__content\"><pre>MinMaxScaler()</pre></div></div></div></div></div>"
      ],
      "text/plain": [
       "MinMaxScaler()"
      ]
     },
     "execution_count": 15,
     "metadata": {},
     "output_type": "execute_result"
    }
   ],
   "source": [
    "# fit calculates the mean and standard deviation\n",
    "scaler = MinMaxScaler()\n",
    "scaler.fit(xtrain)"
   ]
  },
  {
   "cell_type": "code",
   "execution_count": 16,
   "id": "e84fbd35",
   "metadata": {},
   "outputs": [],
   "source": [
    "# Now transform xtrain and xtest\n",
    "Xtrain = scaler.transform(xtrain)\n",
    "Xtest = scaler.transform(xtest)"
   ]
  },
  {
   "cell_type": "code",
   "execution_count": 17,
   "id": "3df35f60",
   "metadata": {},
   "outputs": [],
   "source": [
    "# import the model\n",
    "# from sklearn.neural_network import MLPClassifier\n",
    "# from sklearn.multioutput import MultiOutputClassifier\n",
    "\n",
    "from sklearn.neural_network import MLPRegressor"
   ]
  },
  {
   "cell_type": "code",
   "execution_count": 66,
   "id": "93649acc",
   "metadata": {},
   "outputs": [
    {
     "data": {
      "text/html": [
       "<style>#sk-container-id-9 {color: black;}#sk-container-id-9 pre{padding: 0;}#sk-container-id-9 div.sk-toggleable {background-color: white;}#sk-container-id-9 label.sk-toggleable__label {cursor: pointer;display: block;width: 100%;margin-bottom: 0;padding: 0.3em;box-sizing: border-box;text-align: center;}#sk-container-id-9 label.sk-toggleable__label-arrow:before {content: \"▸\";float: left;margin-right: 0.25em;color: #696969;}#sk-container-id-9 label.sk-toggleable__label-arrow:hover:before {color: black;}#sk-container-id-9 div.sk-estimator:hover label.sk-toggleable__label-arrow:before {color: black;}#sk-container-id-9 div.sk-toggleable__content {max-height: 0;max-width: 0;overflow: hidden;text-align: left;background-color: #f0f8ff;}#sk-container-id-9 div.sk-toggleable__content pre {margin: 0.2em;color: black;border-radius: 0.25em;background-color: #f0f8ff;}#sk-container-id-9 input.sk-toggleable__control:checked~div.sk-toggleable__content {max-height: 200px;max-width: 100%;overflow: auto;}#sk-container-id-9 input.sk-toggleable__control:checked~label.sk-toggleable__label-arrow:before {content: \"▾\";}#sk-container-id-9 div.sk-estimator input.sk-toggleable__control:checked~label.sk-toggleable__label {background-color: #d4ebff;}#sk-container-id-9 div.sk-label input.sk-toggleable__control:checked~label.sk-toggleable__label {background-color: #d4ebff;}#sk-container-id-9 input.sk-hidden--visually {border: 0;clip: rect(1px 1px 1px 1px);clip: rect(1px, 1px, 1px, 1px);height: 1px;margin: -1px;overflow: hidden;padding: 0;position: absolute;width: 1px;}#sk-container-id-9 div.sk-estimator {font-family: monospace;background-color: #f0f8ff;border: 1px dotted black;border-radius: 0.25em;box-sizing: border-box;margin-bottom: 0.5em;}#sk-container-id-9 div.sk-estimator:hover {background-color: #d4ebff;}#sk-container-id-9 div.sk-parallel-item::after {content: \"\";width: 100%;border-bottom: 1px solid gray;flex-grow: 1;}#sk-container-id-9 div.sk-label:hover label.sk-toggleable__label {background-color: #d4ebff;}#sk-container-id-9 div.sk-serial::before {content: \"\";position: absolute;border-left: 1px solid gray;box-sizing: border-box;top: 0;bottom: 0;left: 50%;z-index: 0;}#sk-container-id-9 div.sk-serial {display: flex;flex-direction: column;align-items: center;background-color: white;padding-right: 0.2em;padding-left: 0.2em;position: relative;}#sk-container-id-9 div.sk-item {position: relative;z-index: 1;}#sk-container-id-9 div.sk-parallel {display: flex;align-items: stretch;justify-content: center;background-color: white;position: relative;}#sk-container-id-9 div.sk-item::before, #sk-container-id-9 div.sk-parallel-item::before {content: \"\";position: absolute;border-left: 1px solid gray;box-sizing: border-box;top: 0;bottom: 0;left: 50%;z-index: -1;}#sk-container-id-9 div.sk-parallel-item {display: flex;flex-direction: column;z-index: 1;position: relative;background-color: white;}#sk-container-id-9 div.sk-parallel-item:first-child::after {align-self: flex-end;width: 50%;}#sk-container-id-9 div.sk-parallel-item:last-child::after {align-self: flex-start;width: 50%;}#sk-container-id-9 div.sk-parallel-item:only-child::after {width: 0;}#sk-container-id-9 div.sk-dashed-wrapped {border: 1px dashed gray;margin: 0 0.4em 0.5em 0.4em;box-sizing: border-box;padding-bottom: 0.4em;background-color: white;}#sk-container-id-9 div.sk-label label {font-family: monospace;font-weight: bold;display: inline-block;line-height: 1.2em;}#sk-container-id-9 div.sk-label-container {text-align: center;}#sk-container-id-9 div.sk-container {/* jupyter's `normalize.less` sets `[hidden] { display: none; }` but bootstrap.min.css set `[hidden] { display: none !important; }` so we also need the `!important` here to be able to override the default hidden behavior on the sphinx rendered scikit-learn.org. See: https://github.com/scikit-learn/scikit-learn/issues/21755 */display: inline-block !important;position: relative;}#sk-container-id-9 div.sk-text-repr-fallback {display: none;}</style><div id=\"sk-container-id-9\" class=\"sk-top-container\"><div class=\"sk-text-repr-fallback\"><pre>MLPRegressor(hidden_layer_sizes=(20, 20, 20), max_iter=600, random_state=234)</pre><b>In a Jupyter environment, please rerun this cell to show the HTML representation or trust the notebook. <br />On GitHub, the HTML representation is unable to render, please try loading this page with nbviewer.org.</b></div><div class=\"sk-container\" hidden><div class=\"sk-item\"><div class=\"sk-estimator sk-toggleable\"><input class=\"sk-toggleable__control sk-hidden--visually\" id=\"sk-estimator-id-9\" type=\"checkbox\" checked><label for=\"sk-estimator-id-9\" class=\"sk-toggleable__label sk-toggleable__label-arrow\">MLPRegressor</label><div class=\"sk-toggleable__content\"><pre>MLPRegressor(hidden_layer_sizes=(20, 20, 20), max_iter=600, random_state=234)</pre></div></div></div></div></div>"
      ],
      "text/plain": [
       "MLPRegressor(hidden_layer_sizes=(20, 20, 20), max_iter=600, random_state=234)"
      ]
     },
     "execution_count": 66,
     "metadata": {},
     "output_type": "execute_result"
    }
   ],
   "source": [
    "# fit/train the model. Check batch size. \n",
    "MLP = MLPRegressor(hidden_layer_sizes=(20,20,20), max_iter=600, random_state=234)\n",
    "MLP.fit(Xtrain, ytrain)"
   ]
  },
  {
   "cell_type": "code",
   "execution_count": 67,
   "id": "4a304bfa",
   "metadata": {},
   "outputs": [
    {
     "data": {
      "image/png": "[encoded data removed]",
      "text/plain": [
       "<Figure size 640x480 with 1 Axes>"
      ]
     },
     "metadata": {},
     "output_type": "display_data"
    }
   ],
   "source": [
    "from sklearn.metrics import mean_squared_error\n",
    "\n",
    "ytrain_preds = []\n",
    "ytest_preds = []\n",
    "\n",
    "# Fit the model and store predictions at each iteration\n",
    "for i in range(MLP.max_iter):\n",
    "    MLP.partial_fit(Xtrain, ytrain)\n",
    "    ytrain_pred = MLP.predict(Xtrain)\n",
    "    ytest_pred = MLP.predict(Xtest)\n",
    "    ytrain_preds.append(mean_squared_error(ytrain, ytrain_pred))\n",
    "    ytest_preds.append(mean_squared_error(ytest, ytest_pred))\n",
    "\n",
    "# Plot the training and testing predictions over iterations\n",
    "plt.plot(ytrain_preds, label='Training Set')\n",
    "plt.plot(ytest_preds, label='Testing Set')\n",
    "plt.title('Mean Squared Error Over Iterations')\n",
    "plt.xlabel('Iterations')\n",
    "plt.ylabel('Mean Squared Error')\n",
    "plt.legend()\n",
    "plt.show()"
   ]
  },
  {
   "cell_type": "code",
   "execution_count": 59,
   "id": "14a3e8b5",
   "metadata": {},
   "outputs": [],
   "source": [
    "# make Predictions\n",
    "\n",
    "ytrain_pred=MLP.predict(Xtrain)\n",
    "\n",
    "ytest_pred = MLP.predict(Xtest)"
   ]
  },
  {
   "cell_type": "code",
   "execution_count": 64,
   "id": "980bccdd",
   "metadata": {},
   "outputs": [
    {
     "name": "stdout",
     "output_type": "stream",
     "text": [
      "mse_train_pred 0.012023252906991164\n",
      "mse_test_pred 0.011805805632281707\n"
     ]
    }
   ],
   "source": [
    "mse_train_pred= mean_squared_error(ytrain, ytrain_pred)\n",
    "\n",
    "mse_test_pred = mean_squared_error(ytest, ytest_pred)\n",
    "\n",
    "print('mse_train_pred',mse_train_pred)\n",
    "\n",
    "print('mse_test_pred',mse_test_pred)"
   ]
  },
  {
   "cell_type": "code",
   "execution_count": 65,
   "id": "16a5e3d0",
   "metadata": {},
   "outputs": [
    {
     "name": "stdout",
     "output_type": "stream",
     "text": [
      "mae_train_pred 0.055809647491242585\n",
      "mae_test_pred 0.055215671076441916\n"
     ]
    }
   ],
   "source": [
    "from sklearn.metrics import mean_absolute_error\n",
    "mae_train_pred = mean_absolute_error(ytrain, ytrain_pred)\n",
    "mae_test_pred = mean_absolute_error(ytest, ytest_pred)\n",
    "\n",
    "print('mae_train_pred',mae_train_pred)\n",
    "\n",
    "print('mae_test_pred',mae_test_pred)"
   ]
  },
  {
   "cell_type": "code",
   "execution_count": 62,
   "id": "e75cb994",
   "metadata": {},
   "outputs": [
    {
     "name": "stdout",
     "output_type": "stream",
     "text": [
      "r2_train_pred 0.9114145992696304\n",
      "r2_test_pred 0.9112636667365238\n"
     ]
    }
   ],
   "source": [
    "from sklearn.metrics import r2_score\n",
    "r2_train_pred = r2_score(ytrain, ytrain_pred)\n",
    "r2_test_pred = r2_score(ytest, ytest_pred)\n",
    "\n",
    "print('r2_train_pred',r2_train_pred)\n",
    "\n",
    "print('r2_test_pred',r2_test_pred)"
   ]
  },
  {
   "cell_type": "code",
   "execution_count": 63,
   "id": "96c5dee0",
   "metadata": {},
   "outputs": [
    {
     "name": "stdout",
     "output_type": "stream",
     "text": [
      "[[ 0.02  0.03  0.05 ...  0.01  0.   -0.  ]\n",
      " [ 0.59  0.04  0.02 ...  0.01  0.98  0.99]\n",
      " [ 0.   -0.01  0.66 ...  0.01  0.09  0.07]\n",
      " ...\n",
      " [ 0.    0.01  0.02 ...  0.04 -0.01  0.  ]\n",
      " [ 0.02  0.83  0.03 ...  0.   -0.01  0.99]\n",
      " [ 0.01  0.02  1.21 ...  0.   -0.   -0.  ]]\n"
     ]
    }
   ],
   "source": [
    "rounded_ypred = np.round(ytest_pred, 2)\n",
    "print(rounded_ypred)"
   ]
  },
  {
   "cell_type": "code",
   "execution_count": null,
   "id": "98c9a75d",
   "metadata": {},
   "outputs": [],
   "source": []
  }
 ],
 "metadata": {
  "kernelspec": {
   "display_name": "Python 3 (ipykernel)",
   "language": "python",
   "name": "python3"
  },
  "language_info": {
   "codemirror_mode": {
    "name": "ipython",
    "version": 3
   },
   "file_extension": ".py",
   "mimetype": "text/x-python",
   "name": "python",
   "nbconvert_exporter": "python",
   "pygments_lexer": "ipython3",
   "version": "3.11.4"
  }
 },
 "nbformat": 4,
 "nbformat_minor": 5
}
